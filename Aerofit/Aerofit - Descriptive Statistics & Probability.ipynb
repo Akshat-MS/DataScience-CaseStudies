{
 "cells": [
  {
   "cell_type": "markdown",
   "id": "36b0a9c3",
   "metadata": {},
   "source": [
    "# Business Case: Aerofit - Descriptive Statistics & Probability"
   ]
  },
  {
   "cell_type": "markdown",
   "id": "162876f3",
   "metadata": {},
   "source": [
    "### About Aerofit\n",
    "\n",
    "Aerofit is a leading brand in the field of fitness equipment. Aerofit provides a product range including machines such as treadmills, exercise bikes, gym equipment, and fitness accessories to cater to the needs of all categories of people.\n",
    "\n",
    "\n",
    "### Business Problem\n",
    "\n",
    "The market research team at AeroFit wants to identify the characteristics of the target audience for each type of treadmill offered by the company, to provide a better recommendation of the treadmills to the new customers. The team decides to investigate whether there are differences across the product with respect to customer characteristics.\n",
    "\n",
    "Perform descriptive analytics to create a customer profile for each AeroFit treadmill product by developing appropriate tables and charts.\n",
    "For each AeroFit treadmill product, construct two-way contingency tables and compute all conditional and marginal probabilities along with their insights/impact on the business.\n",
    "\n",
    "### Dataset\n",
    "\n",
    "The company collected the data on individuals who purchased a treadmill from the AeroFit stores during the prior three months. The dataset has the following features:\n",
    "\n",
    "Dataset link: <a href=\"https://d2beiqkhq929f0.cloudfront.net/public_assets/assets/000/001/125/original/aerofit_treadmill.csv?1639992749\" >Aerofit_treadmill.csv </a>\n",
    "\n",
    "\n",
    "|Feature|Possible Values|\n",
    "|-------|---------------|\n",
    "|Product Purchased |KP281, KP481, or KP781|\n",
    "|Age|\tIn years|\n",
    "|Gender|Male/Female|\n",
    "|Education|\tIn years|\n",
    "|MaritalStatus|\tSingle or partnered|\n",
    "|Usage|The avg. no. of times customer plans to use the treadmill each week.|\n",
    "|Income|Annual income (in $)|\n",
    "|Fitness|Self-rated fitness on a 1-to-5 scale (1-poor shape & 5-excellent shape.)|\n",
    "|Miles|The avg. no. of miles the customer expects to walk/run each week|\n",
    "\n",
    "### Product Portfolio:\n",
    "  - The KP281 is an entry-level treadmill that sells for dollar 1,500\n",
    "  - The KP481 is for mid-level runners that sell for dollar 1,750.\n",
    "  - The KP781 treadmill is having advanced features that sell for dollar 2,500.\n",
    " \n",
    "  "
   ]
  },
  {
   "cell_type": "markdown",
   "id": "0317e047",
   "metadata": {},
   "source": [
    "### Importing the required libraries or packages for EDA "
   ]
  },
  {
   "cell_type": "code",
   "execution_count": 18,
   "id": "53e38bf7",
   "metadata": {},
   "outputs": [],
   "source": [
    "#Importing packages\n",
    "import numpy as np\n",
    "import pandas as pd\n",
    "\n",
    "# Importing matplotlib and seaborn for graphs\n",
    "import matplotlib.pyplot as plt\n",
    "import seaborn as sns\n",
    "\n",
    "import warnings\n",
    "warnings.filterwarnings('ignore')"
   ]
  },
  {
   "cell_type": "markdown",
   "id": "ce08946d",
   "metadata": {},
   "source": [
    "### Utility Functions - Used during Analysis"
   ]
  },
  {
   "cell_type": "markdown",
   "id": "a647dd26",
   "metadata": {},
   "source": [
    "#### Missing Value - Calculator"
   ]
  },
  {
   "cell_type": "code",
   "execution_count": 19,
   "id": "f822390c",
   "metadata": {},
   "outputs": [],
   "source": [
    "def missingValue(df):\n",
    "    #Identifying Missing data. Already verified above. To be sure again checking.\n",
    "    total_null = df.isnull().sum().sort_values(ascending = False)\n",
    "    percent = ((df.isnull().sum()/df.isnull().count())*100).sort_values(ascending = False)\n",
    "    print(\"Total records = \", df.shape[0])\n",
    "\n",
    "    md = pd.concat([total_null,percent.round(2)],axis=1,keys=['Total Missing','In Percent'])\n",
    "    return md"
   ]
  },
  {
   "cell_type": "code",
   "execution_count": 3,
   "id": "da2bfa84",
   "metadata": {},
   "outputs": [],
   "source": [
    "aerofit_data = pd.read_csv(\"./aerofit_treadmill.csv\")"
   ]
  },
  {
   "cell_type": "code",
   "execution_count": 4,
   "id": "861be4cc",
   "metadata": {},
   "outputs": [
    {
     "data": {
      "text/html": [
       "<div>\n",
       "<style scoped>\n",
       "    .dataframe tbody tr th:only-of-type {\n",
       "        vertical-align: middle;\n",
       "    }\n",
       "\n",
       "    .dataframe tbody tr th {\n",
       "        vertical-align: top;\n",
       "    }\n",
       "\n",
       "    .dataframe thead th {\n",
       "        text-align: right;\n",
       "    }\n",
       "</style>\n",
       "<table border=\"1\" class=\"dataframe\">\n",
       "  <thead>\n",
       "    <tr style=\"text-align: right;\">\n",
       "      <th></th>\n",
       "      <th>Product</th>\n",
       "      <th>Age</th>\n",
       "      <th>Gender</th>\n",
       "      <th>Education</th>\n",
       "      <th>MaritalStatus</th>\n",
       "      <th>Usage</th>\n",
       "      <th>Fitness</th>\n",
       "      <th>Income</th>\n",
       "      <th>Miles</th>\n",
       "    </tr>\n",
       "  </thead>\n",
       "  <tbody>\n",
       "    <tr>\n",
       "      <th>0</th>\n",
       "      <td>KP281</td>\n",
       "      <td>18</td>\n",
       "      <td>Male</td>\n",
       "      <td>14</td>\n",
       "      <td>Single</td>\n",
       "      <td>3</td>\n",
       "      <td>4</td>\n",
       "      <td>29562</td>\n",
       "      <td>112</td>\n",
       "    </tr>\n",
       "    <tr>\n",
       "      <th>1</th>\n",
       "      <td>KP281</td>\n",
       "      <td>19</td>\n",
       "      <td>Male</td>\n",
       "      <td>15</td>\n",
       "      <td>Single</td>\n",
       "      <td>2</td>\n",
       "      <td>3</td>\n",
       "      <td>31836</td>\n",
       "      <td>75</td>\n",
       "    </tr>\n",
       "    <tr>\n",
       "      <th>2</th>\n",
       "      <td>KP281</td>\n",
       "      <td>19</td>\n",
       "      <td>Female</td>\n",
       "      <td>14</td>\n",
       "      <td>Partnered</td>\n",
       "      <td>4</td>\n",
       "      <td>3</td>\n",
       "      <td>30699</td>\n",
       "      <td>66</td>\n",
       "    </tr>\n",
       "    <tr>\n",
       "      <th>3</th>\n",
       "      <td>KP281</td>\n",
       "      <td>19</td>\n",
       "      <td>Male</td>\n",
       "      <td>12</td>\n",
       "      <td>Single</td>\n",
       "      <td>3</td>\n",
       "      <td>3</td>\n",
       "      <td>32973</td>\n",
       "      <td>85</td>\n",
       "    </tr>\n",
       "    <tr>\n",
       "      <th>4</th>\n",
       "      <td>KP281</td>\n",
       "      <td>20</td>\n",
       "      <td>Male</td>\n",
       "      <td>13</td>\n",
       "      <td>Partnered</td>\n",
       "      <td>4</td>\n",
       "      <td>2</td>\n",
       "      <td>35247</td>\n",
       "      <td>47</td>\n",
       "    </tr>\n",
       "  </tbody>\n",
       "</table>\n",
       "</div>"
      ],
      "text/plain": [
       "  Product  Age  Gender  Education MaritalStatus  Usage  Fitness  Income  Miles\n",
       "0   KP281   18    Male         14        Single      3        4   29562    112\n",
       "1   KP281   19    Male         15        Single      2        3   31836     75\n",
       "2   KP281   19  Female         14     Partnered      4        3   30699     66\n",
       "3   KP281   19    Male         12        Single      3        3   32973     85\n",
       "4   KP281   20    Male         13     Partnered      4        2   35247     47"
      ]
     },
     "execution_count": 4,
     "metadata": {},
     "output_type": "execute_result"
    }
   ],
   "source": [
    "aerofit_data.head()"
   ]
  },
  {
   "cell_type": "code",
   "execution_count": 5,
   "id": "01adb29c",
   "metadata": {},
   "outputs": [
    {
     "data": {
      "text/plain": [
       "(180, 9)"
      ]
     },
     "execution_count": 5,
     "metadata": {},
     "output_type": "execute_result"
    }
   ],
   "source": [
    "aerofit_data.shape"
   ]
  },
  {
   "cell_type": "code",
   "execution_count": 6,
   "id": "d72b58e3",
   "metadata": {},
   "outputs": [
    {
     "data": {
      "text/plain": [
       "Index(['Product', 'Age', 'Gender', 'Education', 'MaritalStatus', 'Usage',\n",
       "       'Fitness', 'Income', 'Miles'],\n",
       "      dtype='object')"
      ]
     },
     "execution_count": 6,
     "metadata": {},
     "output_type": "execute_result"
    }
   ],
   "source": [
    "aerofit_data.columns"
   ]
  },
  {
   "cell_type": "markdown",
   "id": "1257355a",
   "metadata": {},
   "source": [
    "### Validating Duplicate Records"
   ]
  },
  {
   "cell_type": "code",
   "execution_count": 7,
   "id": "a3a4f75c",
   "metadata": {},
   "outputs": [
    {
     "data": {
      "text/plain": [
       "(180, 9)"
      ]
     },
     "execution_count": 7,
     "metadata": {},
     "output_type": "execute_result"
    }
   ],
   "source": [
    "aerofit_data = aerofit_data.drop_duplicates()\n",
    "aerofit_data.shape"
   ]
  },
  {
   "cell_type": "markdown",
   "id": "c38345f1",
   "metadata": {},
   "source": [
    "### Inference\n",
    "  - No dupicates records found."
   ]
  },
  {
   "cell_type": "markdown",
   "id": "ecc5e133",
   "metadata": {},
   "source": [
    "### Missing Data Analysis"
   ]
  },
  {
   "cell_type": "code",
   "execution_count": 22,
   "id": "e04133a9",
   "metadata": {},
   "outputs": [
    {
     "name": "stdout",
     "output_type": "stream",
     "text": [
      "Total records =  180\n"
     ]
    },
    {
     "data": {
      "text/html": [
       "<div>\n",
       "<style scoped>\n",
       "    .dataframe tbody tr th:only-of-type {\n",
       "        vertical-align: middle;\n",
       "    }\n",
       "\n",
       "    .dataframe tbody tr th {\n",
       "        vertical-align: top;\n",
       "    }\n",
       "\n",
       "    .dataframe thead th {\n",
       "        text-align: right;\n",
       "    }\n",
       "</style>\n",
       "<table border=\"1\" class=\"dataframe\">\n",
       "  <thead>\n",
       "    <tr style=\"text-align: right;\">\n",
       "      <th></th>\n",
       "      <th>Total Missing</th>\n",
       "      <th>In Percent</th>\n",
       "    </tr>\n",
       "  </thead>\n",
       "  <tbody>\n",
       "    <tr>\n",
       "      <th>Product</th>\n",
       "      <td>0</td>\n",
       "      <td>0.0</td>\n",
       "    </tr>\n",
       "    <tr>\n",
       "      <th>Age</th>\n",
       "      <td>0</td>\n",
       "      <td>0.0</td>\n",
       "    </tr>\n",
       "    <tr>\n",
       "      <th>Gender</th>\n",
       "      <td>0</td>\n",
       "      <td>0.0</td>\n",
       "    </tr>\n",
       "    <tr>\n",
       "      <th>Education</th>\n",
       "      <td>0</td>\n",
       "      <td>0.0</td>\n",
       "    </tr>\n",
       "    <tr>\n",
       "      <th>MaritalStatus</th>\n",
       "      <td>0</td>\n",
       "      <td>0.0</td>\n",
       "    </tr>\n",
       "  </tbody>\n",
       "</table>\n",
       "</div>"
      ],
      "text/plain": [
       "               Total Missing  In Percent\n",
       "Product                    0         0.0\n",
       "Age                        0         0.0\n",
       "Gender                     0         0.0\n",
       "Education                  0         0.0\n",
       "MaritalStatus              0         0.0"
      ]
     },
     "execution_count": 22,
     "metadata": {},
     "output_type": "execute_result"
    }
   ],
   "source": [
    "missingValue(aerofit_data).head(5)"
   ]
  },
  {
   "cell_type": "markdown",
   "id": "d5ef8c58",
   "metadata": {},
   "source": [
    "### Inference\n",
    "  - No missing value found."
   ]
  },
  {
   "cell_type": "markdown",
   "id": "c73ee2d1",
   "metadata": {},
   "source": [
    "### Unique values (counts) for each Feature"
   ]
  },
  {
   "cell_type": "code",
   "execution_count": 23,
   "id": "f47af470",
   "metadata": {},
   "outputs": [
    {
     "data": {
      "text/plain": [
       "Product           3\n",
       "Age              32\n",
       "Gender            2\n",
       "Education         8\n",
       "MaritalStatus     2\n",
       "Usage             6\n",
       "Fitness           5\n",
       "Income           62\n",
       "Miles            37\n",
       "dtype: int64"
      ]
     },
     "execution_count": 23,
     "metadata": {},
     "output_type": "execute_result"
    }
   ],
   "source": [
    "aerofit_data.nunique()"
   ]
  },
  {
   "cell_type": "markdown",
   "id": "72154fe6",
   "metadata": {},
   "source": [
    "### Unique values (names) are checked for each Features"
   ]
  },
  {
   "cell_type": "code",
   "execution_count": 25,
   "id": "e84ee6e5",
   "metadata": {},
   "outputs": [
    {
     "data": {
      "text/plain": [
       "array(['KP281', 'KP481', 'KP781'], dtype=object)"
      ]
     },
     "execution_count": 25,
     "metadata": {},
     "output_type": "execute_result"
    }
   ],
   "source": [
    "aerofit_data['Product'].unique()"
   ]
  },
  {
   "cell_type": "code",
   "execution_count": 26,
   "id": "0169d6af",
   "metadata": {},
   "outputs": [
    {
     "data": {
      "text/plain": [
       "array([18, 19, 20, 21, 22, 23, 24, 25, 26, 27, 28, 29, 30, 31, 32, 33, 34,\n",
       "       35, 36, 37, 38, 39, 40, 41, 43, 44, 46, 47, 50, 45, 48, 42],\n",
       "      dtype=int64)"
      ]
     },
     "execution_count": 26,
     "metadata": {},
     "output_type": "execute_result"
    }
   ],
   "source": [
    "aerofit_data['Age'].unique()"
   ]
  },
  {
   "cell_type": "code",
   "execution_count": 27,
   "id": "24661197",
   "metadata": {},
   "outputs": [
    {
     "data": {
      "text/plain": [
       "array(['Male', 'Female'], dtype=object)"
      ]
     },
     "execution_count": 27,
     "metadata": {},
     "output_type": "execute_result"
    }
   ],
   "source": [
    "aerofit_data['Gender'].unique()"
   ]
  },
  {
   "cell_type": "code",
   "execution_count": 28,
   "id": "3e53a6c3",
   "metadata": {},
   "outputs": [
    {
     "data": {
      "text/plain": [
       "array([14, 15, 12, 13, 16, 18, 20, 21], dtype=int64)"
      ]
     },
     "execution_count": 28,
     "metadata": {},
     "output_type": "execute_result"
    }
   ],
   "source": [
    "aerofit_data['Education'].unique()"
   ]
  },
  {
   "cell_type": "code",
   "execution_count": 29,
   "id": "32b86e98",
   "metadata": {},
   "outputs": [
    {
     "data": {
      "text/plain": [
       "array(['Single', 'Partnered'], dtype=object)"
      ]
     },
     "execution_count": 29,
     "metadata": {},
     "output_type": "execute_result"
    }
   ],
   "source": [
    "aerofit_data['MaritalStatus'].unique()"
   ]
  },
  {
   "cell_type": "code",
   "execution_count": 30,
   "id": "6da2a266",
   "metadata": {},
   "outputs": [
    {
     "data": {
      "text/plain": [
       "array([3, 2, 4, 5, 6, 7], dtype=int64)"
      ]
     },
     "execution_count": 30,
     "metadata": {},
     "output_type": "execute_result"
    }
   ],
   "source": [
    "aerofit_data['Usage'].unique()"
   ]
  },
  {
   "cell_type": "code",
   "execution_count": 31,
   "id": "77edf444",
   "metadata": {},
   "outputs": [
    {
     "data": {
      "text/plain": [
       "array([4, 3, 2, 1, 5], dtype=int64)"
      ]
     },
     "execution_count": 31,
     "metadata": {},
     "output_type": "execute_result"
    }
   ],
   "source": [
    "aerofit_data['Fitness'].unique()"
   ]
  },
  {
   "cell_type": "code",
   "execution_count": 32,
   "id": "e544c5f9",
   "metadata": {},
   "outputs": [
    {
     "data": {
      "text/plain": [
       "array([ 29562,  31836,  30699,  32973,  35247,  37521,  36384,  38658,\n",
       "        40932,  34110,  39795,  42069,  44343,  45480,  46617,  48891,\n",
       "        53439,  43206,  52302,  51165,  50028,  54576,  68220,  55713,\n",
       "        60261,  67083,  56850,  59124,  61398,  57987,  64809,  47754,\n",
       "        65220,  62535,  48658,  54781,  48556,  58516,  53536,  61006,\n",
       "        57271,  52291,  49801,  62251,  64741,  70966,  75946,  74701,\n",
       "        69721,  83416,  88396,  90886,  92131,  77191,  52290,  85906,\n",
       "       103336,  99601,  89641,  95866, 104581,  95508], dtype=int64)"
      ]
     },
     "execution_count": 32,
     "metadata": {},
     "output_type": "execute_result"
    }
   ],
   "source": [
    "aerofit_data['Income'].unique()"
   ]
  },
  {
   "cell_type": "code",
   "execution_count": 33,
   "id": "e351de78",
   "metadata": {},
   "outputs": [
    {
     "data": {
      "text/plain": [
       "array([112,  75,  66,  85,  47, 141, 103,  94, 113,  38, 188,  56, 132,\n",
       "       169,  64,  53, 106,  95, 212,  42, 127,  74, 170,  21, 120, 200,\n",
       "       140, 100,  80, 160, 180, 240, 150, 300, 280, 260, 360], dtype=int64)"
      ]
     },
     "execution_count": 33,
     "metadata": {},
     "output_type": "execute_result"
    }
   ],
   "source": [
    "aerofit_data['Miles'].unique()"
   ]
  },
  {
   "cell_type": "markdown",
   "id": "090a25af",
   "metadata": {},
   "source": [
    "### Inference\n",
    "  - No abnormalities were found in the data."
   ]
  },
  {
   "cell_type": "markdown",
   "id": "1574d801",
   "metadata": {},
   "source": [
    "### DataType Validation"
   ]
  },
  {
   "cell_type": "code",
   "execution_count": 34,
   "id": "f417e7de",
   "metadata": {},
   "outputs": [
    {
     "name": "stdout",
     "output_type": "stream",
     "text": [
      "<class 'pandas.core.frame.DataFrame'>\n",
      "Int64Index: 180 entries, 0 to 179\n",
      "Data columns (total 9 columns):\n",
      " #   Column         Non-Null Count  Dtype \n",
      "---  ------         --------------  ----- \n",
      " 0   Product        180 non-null    object\n",
      " 1   Age            180 non-null    int64 \n",
      " 2   Gender         180 non-null    object\n",
      " 3   Education      180 non-null    int64 \n",
      " 4   MaritalStatus  180 non-null    object\n",
      " 5   Usage          180 non-null    int64 \n",
      " 6   Fitness        180 non-null    int64 \n",
      " 7   Income         180 non-null    int64 \n",
      " 8   Miles          180 non-null    int64 \n",
      "dtypes: int64(6), object(3)\n",
      "memory usage: 14.1+ KB\n"
     ]
    }
   ],
   "source": [
    "aerofit_data.info()"
   ]
  },
  {
   "cell_type": "markdown",
   "id": "11cfc23c",
   "metadata": {},
   "source": [
    "### Inference\n",
    "  - No problems with the type of data used."
   ]
  },
  {
   "cell_type": "code",
   "execution_count": null,
   "id": "39900f86",
   "metadata": {},
   "outputs": [],
   "source": []
  },
  {
   "cell_type": "code",
   "execution_count": 35,
   "id": "e8ab3fce",
   "metadata": {},
   "outputs": [
    {
     "data": {
      "text/html": [
       "<div>\n",
       "<style scoped>\n",
       "    .dataframe tbody tr th:only-of-type {\n",
       "        vertical-align: middle;\n",
       "    }\n",
       "\n",
       "    .dataframe tbody tr th {\n",
       "        vertical-align: top;\n",
       "    }\n",
       "\n",
       "    .dataframe thead th {\n",
       "        text-align: right;\n",
       "    }\n",
       "</style>\n",
       "<table border=\"1\" class=\"dataframe\">\n",
       "  <thead>\n",
       "    <tr style=\"text-align: right;\">\n",
       "      <th></th>\n",
       "      <th>Age</th>\n",
       "      <th>Education</th>\n",
       "      <th>Usage</th>\n",
       "      <th>Fitness</th>\n",
       "      <th>Income</th>\n",
       "      <th>Miles</th>\n",
       "    </tr>\n",
       "  </thead>\n",
       "  <tbody>\n",
       "    <tr>\n",
       "      <th>count</th>\n",
       "      <td>180.000000</td>\n",
       "      <td>180.000000</td>\n",
       "      <td>180.000000</td>\n",
       "      <td>180.000000</td>\n",
       "      <td>180.000000</td>\n",
       "      <td>180.000000</td>\n",
       "    </tr>\n",
       "    <tr>\n",
       "      <th>mean</th>\n",
       "      <td>28.788889</td>\n",
       "      <td>15.572222</td>\n",
       "      <td>3.455556</td>\n",
       "      <td>3.311111</td>\n",
       "      <td>53719.577778</td>\n",
       "      <td>103.194444</td>\n",
       "    </tr>\n",
       "    <tr>\n",
       "      <th>std</th>\n",
       "      <td>6.943498</td>\n",
       "      <td>1.617055</td>\n",
       "      <td>1.084797</td>\n",
       "      <td>0.958869</td>\n",
       "      <td>16506.684226</td>\n",
       "      <td>51.863605</td>\n",
       "    </tr>\n",
       "    <tr>\n",
       "      <th>min</th>\n",
       "      <td>18.000000</td>\n",
       "      <td>12.000000</td>\n",
       "      <td>2.000000</td>\n",
       "      <td>1.000000</td>\n",
       "      <td>29562.000000</td>\n",
       "      <td>21.000000</td>\n",
       "    </tr>\n",
       "    <tr>\n",
       "      <th>25%</th>\n",
       "      <td>24.000000</td>\n",
       "      <td>14.000000</td>\n",
       "      <td>3.000000</td>\n",
       "      <td>3.000000</td>\n",
       "      <td>44058.750000</td>\n",
       "      <td>66.000000</td>\n",
       "    </tr>\n",
       "    <tr>\n",
       "      <th>50%</th>\n",
       "      <td>26.000000</td>\n",
       "      <td>16.000000</td>\n",
       "      <td>3.000000</td>\n",
       "      <td>3.000000</td>\n",
       "      <td>50596.500000</td>\n",
       "      <td>94.000000</td>\n",
       "    </tr>\n",
       "    <tr>\n",
       "      <th>75%</th>\n",
       "      <td>33.000000</td>\n",
       "      <td>16.000000</td>\n",
       "      <td>4.000000</td>\n",
       "      <td>4.000000</td>\n",
       "      <td>58668.000000</td>\n",
       "      <td>114.750000</td>\n",
       "    </tr>\n",
       "    <tr>\n",
       "      <th>max</th>\n",
       "      <td>50.000000</td>\n",
       "      <td>21.000000</td>\n",
       "      <td>7.000000</td>\n",
       "      <td>5.000000</td>\n",
       "      <td>104581.000000</td>\n",
       "      <td>360.000000</td>\n",
       "    </tr>\n",
       "  </tbody>\n",
       "</table>\n",
       "</div>"
      ],
      "text/plain": [
       "              Age   Education       Usage     Fitness         Income  \\\n",
       "count  180.000000  180.000000  180.000000  180.000000     180.000000   \n",
       "mean    28.788889   15.572222    3.455556    3.311111   53719.577778   \n",
       "std      6.943498    1.617055    1.084797    0.958869   16506.684226   \n",
       "min     18.000000   12.000000    2.000000    1.000000   29562.000000   \n",
       "25%     24.000000   14.000000    3.000000    3.000000   44058.750000   \n",
       "50%     26.000000   16.000000    3.000000    3.000000   50596.500000   \n",
       "75%     33.000000   16.000000    4.000000    4.000000   58668.000000   \n",
       "max     50.000000   21.000000    7.000000    5.000000  104581.000000   \n",
       "\n",
       "            Miles  \n",
       "count  180.000000  \n",
       "mean   103.194444  \n",
       "std     51.863605  \n",
       "min     21.000000  \n",
       "25%     66.000000  \n",
       "50%     94.000000  \n",
       "75%    114.750000  \n",
       "max    360.000000  "
      ]
     },
     "execution_count": 35,
     "metadata": {},
     "output_type": "execute_result"
    }
   ],
   "source": [
    "aerofit_data.describe()"
   ]
  },
  {
   "cell_type": "code",
   "execution_count": null,
   "id": "e91e7d88",
   "metadata": {},
   "outputs": [],
   "source": []
  },
  {
   "cell_type": "markdown",
   "id": "eb2c44c2",
   "metadata": {},
   "source": [
    "## Data Preparation"
   ]
  },
  {
   "cell_type": "code",
   "execution_count": null,
   "id": "162511d2",
   "metadata": {},
   "outputs": [],
   "source": []
  }
 ],
 "metadata": {
  "kernelspec": {
   "display_name": "Python 3 (ipykernel)",
   "language": "python",
   "name": "python3"
  },
  "language_info": {
   "codemirror_mode": {
    "name": "ipython",
    "version": 3
   },
   "file_extension": ".py",
   "mimetype": "text/x-python",
   "name": "python",
   "nbconvert_exporter": "python",
   "pygments_lexer": "ipython3",
   "version": "3.7.3"
  }
 },
 "nbformat": 4,
 "nbformat_minor": 5
}
