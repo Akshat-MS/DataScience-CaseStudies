{
 "cells": [
  {
   "cell_type": "markdown",
   "id": "37ea559b",
   "metadata": {},
   "source": [
    "# Business Case: Netflix - Data Exploration and Visualisation"
   ]
  },
  {
   "cell_type": "markdown",
   "id": "87a450c5",
   "metadata": {},
   "source": [
    "![alt text](https://akm-img-a-in.tosshub.com/indiatoday/images/story/202012/Netflix-New-Feature-Audio-Only_1200x768.jpeg?9TmAZq3wvsTH1jXQNlPkiSKJprCtGBAx& \"Logo Title Text 1\")"
   ]
  },
  {
   "cell_type": "markdown",
   "id": "74996d36",
   "metadata": {},
   "source": [
    "### Business Problem\n",
    "\n",
    "  - Analyze the data and generate insights that could help Netflix decide which type of shows/movies to produce and how to grow the business.\n",
    "  \n",
    "### Dataset  -  <a href=\"https://d2beiqkhq929f0.cloudfront.net/public_assets/assets/000/000/940/original/netflix.csv\" >Netflix Dataset Link</a>\n",
    "\n",
    "The dataset provided to you consists of a list of all the TV shows/movies available on Netflix:\n",
    "\n",
    "  - **Show_id:** Unique ID for every Movie / Tv Show\n",
    "  - **Type:** Identifier - A Movie or TV Show\n",
    "  - **Title:** Title of the Movie / Tv Show\n",
    "  - **Director:** Director of the Movie\n",
    "  - **Cast:** Actors involved in the movie/show\n",
    "  - **Country:** Country where the movie/show was produced\n",
    "  - **Date_added:** Date it was added on Netflix\n",
    "  - **Release_year:** Actual Release year of the movie/show\n",
    "  - **Rating:** TV Rating of the movie/show\n",
    "  - **Duration:** Total Duration - in minutes or number of seasons\n",
    "  - **Listed_in:** Genre\n",
    "  - **Description:** The summary description"
   ]
  },
  {
   "cell_type": "markdown",
   "id": "fbf00659",
   "metadata": {},
   "source": [
    "# <u> A high level overview of the Neflix Dataset Exploration and Visualization<u>\n",
    "\n",
    "  - **Loading and inspecting the Dataset**\n",
    "    - Checking Shape of the Dateset\n",
    "    - Meaningful Column names\n",
    "    - Validating Duplicate Records\n",
    "    - Checking Missing values\n",
    "    - Unique values (counts) for each Feature\n",
    "    - Unique values (names) are checked for Features with a unique value count below 100\n",
    "  - **Dataset Preparation**\n",
    "    - DataType Validation\n",
    "    - Dervied Columns\n",
    "  - **Univariante Analysis**\n",
    "    - Movies & TV shows - Distribution"
   ]
  },
  {
   "cell_type": "markdown",
   "id": "2399ed1d",
   "metadata": {},
   "source": [
    "### Importing the required libraries or packages for EDA "
   ]
  },
  {
   "cell_type": "code",
   "execution_count": 102,
   "id": "bb039557",
   "metadata": {},
   "outputs": [],
   "source": [
    "#Importing packages\n",
    "import numpy as np\n",
    "import pandas as pd\n",
    "\n",
    "# Importing matplotlib and seaborn for graphs\n",
    "import matplotlib.pyplot as plt\n",
    "import seaborn as sns\n",
    "\n",
    "import warnings\n",
    "warnings.filterwarnings('ignore')\n",
    "\n",
    "# Importing Date & Time util modules\n",
    "from dateutil.parser import parse"
   ]
  },
  {
   "cell_type": "markdown",
   "id": "89dc0ca1",
   "metadata": {},
   "source": [
    "## <u> Loading and inspecting the Dataset<u>"
   ]
  },
  {
   "cell_type": "markdown",
   "id": "f2fc12be",
   "metadata": {},
   "source": [
    "### Loading the csv file"
   ]
  },
  {
   "cell_type": "code",
   "execution_count": 103,
   "id": "0acd1f48",
   "metadata": {},
   "outputs": [],
   "source": [
    "netflix_data = pd.read_csv(\"./netflix.csv\")"
   ]
  },
  {
   "cell_type": "code",
   "execution_count": 104,
   "id": "d3f489ea",
   "metadata": {},
   "outputs": [
    {
     "data": {
      "text/html": [
       "<div>\n",
       "<style scoped>\n",
       "    .dataframe tbody tr th:only-of-type {\n",
       "        vertical-align: middle;\n",
       "    }\n",
       "\n",
       "    .dataframe tbody tr th {\n",
       "        vertical-align: top;\n",
       "    }\n",
       "\n",
       "    .dataframe thead th {\n",
       "        text-align: right;\n",
       "    }\n",
       "</style>\n",
       "<table border=\"1\" class=\"dataframe\">\n",
       "  <thead>\n",
       "    <tr style=\"text-align: right;\">\n",
       "      <th></th>\n",
       "      <th>show_id</th>\n",
       "      <th>type</th>\n",
       "      <th>title</th>\n",
       "      <th>director</th>\n",
       "      <th>cast</th>\n",
       "      <th>country</th>\n",
       "      <th>date_added</th>\n",
       "      <th>release_year</th>\n",
       "      <th>rating</th>\n",
       "      <th>duration</th>\n",
       "      <th>listed_in</th>\n",
       "      <th>description</th>\n",
       "    </tr>\n",
       "  </thead>\n",
       "  <tbody>\n",
       "    <tr>\n",
       "      <th>0</th>\n",
       "      <td>s1</td>\n",
       "      <td>Movie</td>\n",
       "      <td>Dick Johnson Is Dead</td>\n",
       "      <td>Kirsten Johnson</td>\n",
       "      <td>NaN</td>\n",
       "      <td>United States</td>\n",
       "      <td>September 25, 2021</td>\n",
       "      <td>2020</td>\n",
       "      <td>PG-13</td>\n",
       "      <td>90 min</td>\n",
       "      <td>Documentaries</td>\n",
       "      <td>As her father nears the end of his life, filmm...</td>\n",
       "    </tr>\n",
       "    <tr>\n",
       "      <th>1</th>\n",
       "      <td>s2</td>\n",
       "      <td>TV Show</td>\n",
       "      <td>Blood &amp; Water</td>\n",
       "      <td>NaN</td>\n",
       "      <td>Ama Qamata, Khosi Ngema, Gail Mabalane, Thaban...</td>\n",
       "      <td>South Africa</td>\n",
       "      <td>September 24, 2021</td>\n",
       "      <td>2021</td>\n",
       "      <td>TV-MA</td>\n",
       "      <td>2 Seasons</td>\n",
       "      <td>International TV Shows, TV Dramas, TV Mysteries</td>\n",
       "      <td>After crossing paths at a party, a Cape Town t...</td>\n",
       "    </tr>\n",
       "    <tr>\n",
       "      <th>2</th>\n",
       "      <td>s3</td>\n",
       "      <td>TV Show</td>\n",
       "      <td>Ganglands</td>\n",
       "      <td>Julien Leclercq</td>\n",
       "      <td>Sami Bouajila, Tracy Gotoas, Samuel Jouy, Nabi...</td>\n",
       "      <td>NaN</td>\n",
       "      <td>September 24, 2021</td>\n",
       "      <td>2021</td>\n",
       "      <td>TV-MA</td>\n",
       "      <td>1 Season</td>\n",
       "      <td>Crime TV Shows, International TV Shows, TV Act...</td>\n",
       "      <td>To protect his family from a powerful drug lor...</td>\n",
       "    </tr>\n",
       "    <tr>\n",
       "      <th>3</th>\n",
       "      <td>s4</td>\n",
       "      <td>TV Show</td>\n",
       "      <td>Jailbirds New Orleans</td>\n",
       "      <td>NaN</td>\n",
       "      <td>NaN</td>\n",
       "      <td>NaN</td>\n",
       "      <td>September 24, 2021</td>\n",
       "      <td>2021</td>\n",
       "      <td>TV-MA</td>\n",
       "      <td>1 Season</td>\n",
       "      <td>Docuseries, Reality TV</td>\n",
       "      <td>Feuds, flirtations and toilet talk go down amo...</td>\n",
       "    </tr>\n",
       "    <tr>\n",
       "      <th>4</th>\n",
       "      <td>s5</td>\n",
       "      <td>TV Show</td>\n",
       "      <td>Kota Factory</td>\n",
       "      <td>NaN</td>\n",
       "      <td>Mayur More, Jitendra Kumar, Ranjan Raj, Alam K...</td>\n",
       "      <td>India</td>\n",
       "      <td>September 24, 2021</td>\n",
       "      <td>2021</td>\n",
       "      <td>TV-MA</td>\n",
       "      <td>2 Seasons</td>\n",
       "      <td>International TV Shows, Romantic TV Shows, TV ...</td>\n",
       "      <td>In a city of coaching centers known to train I...</td>\n",
       "    </tr>\n",
       "  </tbody>\n",
       "</table>\n",
       "</div>"
      ],
      "text/plain": [
       "  show_id     type                  title         director  \\\n",
       "0      s1    Movie   Dick Johnson Is Dead  Kirsten Johnson   \n",
       "1      s2  TV Show          Blood & Water              NaN   \n",
       "2      s3  TV Show              Ganglands  Julien Leclercq   \n",
       "3      s4  TV Show  Jailbirds New Orleans              NaN   \n",
       "4      s5  TV Show           Kota Factory              NaN   \n",
       "\n",
       "                                                cast        country  \\\n",
       "0                                                NaN  United States   \n",
       "1  Ama Qamata, Khosi Ngema, Gail Mabalane, Thaban...   South Africa   \n",
       "2  Sami Bouajila, Tracy Gotoas, Samuel Jouy, Nabi...            NaN   \n",
       "3                                                NaN            NaN   \n",
       "4  Mayur More, Jitendra Kumar, Ranjan Raj, Alam K...          India   \n",
       "\n",
       "           date_added  release_year rating   duration  \\\n",
       "0  September 25, 2021          2020  PG-13     90 min   \n",
       "1  September 24, 2021          2021  TV-MA  2 Seasons   \n",
       "2  September 24, 2021          2021  TV-MA   1 Season   \n",
       "3  September 24, 2021          2021  TV-MA   1 Season   \n",
       "4  September 24, 2021          2021  TV-MA  2 Seasons   \n",
       "\n",
       "                                           listed_in  \\\n",
       "0                                      Documentaries   \n",
       "1    International TV Shows, TV Dramas, TV Mysteries   \n",
       "2  Crime TV Shows, International TV Shows, TV Act...   \n",
       "3                             Docuseries, Reality TV   \n",
       "4  International TV Shows, Romantic TV Shows, TV ...   \n",
       "\n",
       "                                         description  \n",
       "0  As her father nears the end of his life, filmm...  \n",
       "1  After crossing paths at a party, a Cape Town t...  \n",
       "2  To protect his family from a powerful drug lor...  \n",
       "3  Feuds, flirtations and toilet talk go down amo...  \n",
       "4  In a city of coaching centers known to train I...  "
      ]
     },
     "execution_count": 104,
     "metadata": {},
     "output_type": "execute_result"
    }
   ],
   "source": [
    "netflix_data.head()"
   ]
  },
  {
   "cell_type": "markdown",
   "id": "cc80a4fa",
   "metadata": {},
   "source": [
    "### Checking Shape and Column names"
   ]
  },
  {
   "cell_type": "code",
   "execution_count": 105,
   "id": "d9a63531",
   "metadata": {},
   "outputs": [
    {
     "data": {
      "text/plain": [
       "(8807, 12)"
      ]
     },
     "execution_count": 105,
     "metadata": {},
     "output_type": "execute_result"
    }
   ],
   "source": [
    "netflix_data.shape"
   ]
  },
  {
   "cell_type": "code",
   "execution_count": 106,
   "id": "d1dfd346",
   "metadata": {},
   "outputs": [
    {
     "data": {
      "text/plain": [
       "Index(['show_id', 'type', 'title', 'director', 'cast', 'country', 'date_added',\n",
       "       'release_year', 'rating', 'duration', 'listed_in', 'description'],\n",
       "      dtype='object')"
      ]
     },
     "execution_count": 106,
     "metadata": {},
     "output_type": "execute_result"
    }
   ],
   "source": [
    "netflix_data.columns"
   ]
  },
  {
   "cell_type": "markdown",
   "id": "34175ceb",
   "metadata": {},
   "source": [
    "### To make the column names more meaningful, \"listed_in\" has been changed to \"genres\"."
   ]
  },
  {
   "cell_type": "code",
   "execution_count": 107,
   "id": "f33e5a9d",
   "metadata": {},
   "outputs": [],
   "source": [
    "netflix_data.rename(columns = {\"listed_in\":\"genres\"},inplace= True)"
   ]
  },
  {
   "cell_type": "markdown",
   "id": "0228e9a6",
   "metadata": {},
   "source": [
    "### Validating Duplicate Records."
   ]
  },
  {
   "cell_type": "code",
   "execution_count": 108,
   "id": "694bf734",
   "metadata": {},
   "outputs": [
    {
     "data": {
      "text/plain": [
       "(8807, 12)"
      ]
     },
     "execution_count": 108,
     "metadata": {},
     "output_type": "execute_result"
    }
   ],
   "source": [
    "# Dropping Duplicates if any\n",
    "netflix_data=netflix_data.drop_duplicates()\n",
    "netflix_data.shape\n",
    "\n",
    "## No duplicates records found."
   ]
  },
  {
   "cell_type": "markdown",
   "id": "b273e30b",
   "metadata": {},
   "source": [
    "### Missing Data Anaysis"
   ]
  },
  {
   "cell_type": "code",
   "execution_count": 109,
   "id": "622dbfdc",
   "metadata": {},
   "outputs": [
    {
     "name": "stdout",
     "output_type": "stream",
     "text": [
      "Total records (Car Data) =  8807\n"
     ]
    },
    {
     "data": {
      "text/html": [
       "<div>\n",
       "<style scoped>\n",
       "    .dataframe tbody tr th:only-of-type {\n",
       "        vertical-align: middle;\n",
       "    }\n",
       "\n",
       "    .dataframe tbody tr th {\n",
       "        vertical-align: top;\n",
       "    }\n",
       "\n",
       "    .dataframe thead th {\n",
       "        text-align: right;\n",
       "    }\n",
       "</style>\n",
       "<table border=\"1\" class=\"dataframe\">\n",
       "  <thead>\n",
       "    <tr style=\"text-align: right;\">\n",
       "      <th></th>\n",
       "      <th>Total Missing</th>\n",
       "      <th>In Percent</th>\n",
       "    </tr>\n",
       "  </thead>\n",
       "  <tbody>\n",
       "    <tr>\n",
       "      <th>director</th>\n",
       "      <td>2634</td>\n",
       "      <td>29.91</td>\n",
       "    </tr>\n",
       "    <tr>\n",
       "      <th>country</th>\n",
       "      <td>831</td>\n",
       "      <td>9.44</td>\n",
       "    </tr>\n",
       "    <tr>\n",
       "      <th>cast</th>\n",
       "      <td>825</td>\n",
       "      <td>9.37</td>\n",
       "    </tr>\n",
       "    <tr>\n",
       "      <th>date_added</th>\n",
       "      <td>10</td>\n",
       "      <td>0.11</td>\n",
       "    </tr>\n",
       "    <tr>\n",
       "      <th>rating</th>\n",
       "      <td>4</td>\n",
       "      <td>0.05</td>\n",
       "    </tr>\n",
       "  </tbody>\n",
       "</table>\n",
       "</div>"
      ],
      "text/plain": [
       "            Total Missing  In Percent\n",
       "director             2634       29.91\n",
       "country               831        9.44\n",
       "cast                  825        9.37\n",
       "date_added             10        0.11\n",
       "rating                  4        0.05"
      ]
     },
     "execution_count": 109,
     "metadata": {},
     "output_type": "execute_result"
    }
   ],
   "source": [
    "#Identifying Missing data. Already verified above. To be sure again checking.\n",
    "total_null = netflix_data.isnull().sum().sort_values(ascending = False)\n",
    "percent = ((netflix_data.isnull().sum()/netflix_data.isnull().count())*100).sort_values(ascending = False)\n",
    "print(\"Total records (Car Data) = \", netflix_data.shape[0])\n",
    "\n",
    "missing_data = pd.concat([total_null,percent.round(2)],axis=1,keys=['Total Missing','In Percent'])\n",
    "missing_data.head(5)"
   ]
  },
  {
   "cell_type": "markdown",
   "id": "9450e8a2",
   "metadata": {},
   "source": [
    "### Inference \n",
    "  -  0.11% of total records have missing data for \"date_added\". These records can be removed while analyzing the \"date_added\" feature.\n",
    "  - Missing data will be addressed during the analysis of each column."
   ]
  },
  {
   "cell_type": "markdown",
   "id": "bec8da70",
   "metadata": {},
   "source": [
    "### Unique values (counts) for each Feature"
   ]
  },
  {
   "cell_type": "code",
   "execution_count": 110,
   "id": "800e950f",
   "metadata": {},
   "outputs": [
    {
     "data": {
      "text/plain": [
       "show_id         8807\n",
       "type               2\n",
       "title           8807\n",
       "director        4528\n",
       "cast            7692\n",
       "country          748\n",
       "date_added      1767\n",
       "release_year      74\n",
       "rating            17\n",
       "duration         220\n",
       "genres           514\n",
       "description     8775\n",
       "dtype: int64"
      ]
     },
     "execution_count": 110,
     "metadata": {},
     "output_type": "execute_result"
    }
   ],
   "source": [
    "netflix_data.nunique()"
   ]
  },
  {
   "cell_type": "markdown",
   "id": "b13b1058",
   "metadata": {},
   "source": [
    "### Inference \n",
    "  - dropping show ID as it is just for reference and no use.\n",
    "  - Description - 32 movies have the same description. This may be due to movies being released in different languages."
   ]
  },
  {
   "cell_type": "code",
   "execution_count": 111,
   "id": "0ac99264",
   "metadata": {},
   "outputs": [],
   "source": [
    "# dropping show ID as it is just for reference and no use.\n",
    "netflix_data = netflix_data.drop('show_id',axis=1)"
   ]
  },
  {
   "cell_type": "markdown",
   "id": "8e978ee3",
   "metadata": {},
   "source": [
    "### Unique values (names) are checked for Features with a unique value count below 100"
   ]
  },
  {
   "cell_type": "code",
   "execution_count": 112,
   "id": "860d4095",
   "metadata": {},
   "outputs": [
    {
     "data": {
      "text/plain": [
       "array(['Movie', 'TV Show'], dtype=object)"
      ]
     },
     "execution_count": 112,
     "metadata": {},
     "output_type": "execute_result"
    }
   ],
   "source": [
    "netflix_data['type'].unique()"
   ]
  },
  {
   "cell_type": "code",
   "execution_count": 113,
   "id": "84982ae7",
   "metadata": {
    "scrolled": true
   },
   "outputs": [
    {
     "data": {
      "text/plain": [
       "array(['PG-13', 'TV-MA', 'PG', 'TV-14', 'TV-PG', 'TV-Y', 'TV-Y7', 'R',\n",
       "       'TV-G', 'G', 'NC-17', '74 min', '84 min', '66 min', 'NR', nan,\n",
       "       'TV-Y7-FV', 'UR'], dtype=object)"
      ]
     },
     "execution_count": 113,
     "metadata": {},
     "output_type": "execute_result"
    }
   ],
   "source": [
    "netflix_data['rating'].unique()"
   ]
  },
  {
   "cell_type": "code",
   "execution_count": 114,
   "id": "ef8a5c31",
   "metadata": {},
   "outputs": [
    {
     "data": {
      "text/plain": [
       "array([2020, 2021, 1993, 2018, 1996, 1998, 1997, 2010, 2013, 2017, 1975,\n",
       "       1978, 1983, 1987, 2012, 2001, 2014, 2002, 2003, 2004, 2011, 2008,\n",
       "       2009, 2007, 2005, 2006, 1994, 2015, 2019, 2016, 1982, 1989, 1990,\n",
       "       1991, 1999, 1986, 1992, 1984, 1980, 1961, 2000, 1995, 1985, 1976,\n",
       "       1959, 1988, 1981, 1972, 1964, 1945, 1954, 1979, 1958, 1956, 1963,\n",
       "       1970, 1973, 1925, 1974, 1960, 1966, 1971, 1962, 1969, 1977, 1967,\n",
       "       1968, 1965, 1946, 1942, 1955, 1944, 1947, 1943], dtype=int64)"
      ]
     },
     "execution_count": 114,
     "metadata": {},
     "output_type": "execute_result"
    }
   ],
   "source": [
    "netflix_data['release_year'].unique()"
   ]
  },
  {
   "cell_type": "markdown",
   "id": "f2fdb12e",
   "metadata": {},
   "source": [
    "## <u>Data Preparation<u>"
   ]
  },
  {
   "cell_type": "markdown",
   "id": "90664071",
   "metadata": {},
   "source": [
    "### DataType Validation"
   ]
  },
  {
   "cell_type": "code",
   "execution_count": 115,
   "id": "870f9352",
   "metadata": {},
   "outputs": [
    {
     "name": "stdout",
     "output_type": "stream",
     "text": [
      "<class 'pandas.core.frame.DataFrame'>\n",
      "Int64Index: 8807 entries, 0 to 8806\n",
      "Data columns (total 11 columns):\n",
      " #   Column        Non-Null Count  Dtype \n",
      "---  ------        --------------  ----- \n",
      " 0   type          8807 non-null   object\n",
      " 1   title         8807 non-null   object\n",
      " 2   director      6173 non-null   object\n",
      " 3   cast          7982 non-null   object\n",
      " 4   country       7976 non-null   object\n",
      " 5   date_added    8797 non-null   object\n",
      " 6   release_year  8807 non-null   int64 \n",
      " 7   rating        8803 non-null   object\n",
      " 8   duration      8804 non-null   object\n",
      " 9   genres        8807 non-null   object\n",
      " 10  description   8807 non-null   object\n",
      "dtypes: int64(1), object(10)\n",
      "memory usage: 825.7+ KB\n"
     ]
    }
   ],
   "source": [
    "netflix_data.info()"
   ]
  },
  {
   "cell_type": "markdown",
   "id": "0ee0d1af",
   "metadata": {},
   "source": [
    "### Inference \n",
    "  - date_added and release_year is a datetime data type , hence need to update the Dtype"
   ]
  },
  {
   "cell_type": "code",
   "execution_count": 117,
   "id": "34534561",
   "metadata": {},
   "outputs": [],
   "source": [
    "netflix_data[\"date_added\"] = pd.to_datetime(netflix_data['date_added'])"
   ]
  },
  {
   "cell_type": "code",
   "execution_count": 118,
   "id": "35858ad8",
   "metadata": {},
   "outputs": [
    {
     "name": "stdout",
     "output_type": "stream",
     "text": [
      "<class 'pandas.core.frame.DataFrame'>\n",
      "Int64Index: 8807 entries, 0 to 8806\n",
      "Data columns (total 11 columns):\n",
      " #   Column        Non-Null Count  Dtype         \n",
      "---  ------        --------------  -----         \n",
      " 0   type          8807 non-null   object        \n",
      " 1   title         8807 non-null   object        \n",
      " 2   director      6173 non-null   object        \n",
      " 3   cast          7982 non-null   object        \n",
      " 4   country       7976 non-null   object        \n",
      " 5   date_added    8797 non-null   datetime64[ns]\n",
      " 6   release_year  8807 non-null   int64         \n",
      " 7   rating        8803 non-null   object        \n",
      " 8   duration      8804 non-null   object        \n",
      " 9   genres        8807 non-null   object        \n",
      " 10  description   8807 non-null   object        \n",
      "dtypes: datetime64[ns](1), int64(1), object(9)\n",
      "memory usage: 825.7+ KB\n"
     ]
    }
   ],
   "source": [
    "netflix_data.info()"
   ]
  },
  {
   "cell_type": "markdown",
   "id": "161ee074",
   "metadata": {},
   "source": [
    "### Dervied Columns\n",
    "\n",
    "  - Added new feature - **\"Year Added\"** from the **date_added** feature\n",
    "  - Added new feature - **\"Month Added\"** from the **date_added** feature\n",
    "  - Added new feature - **\"Day Added\"** from the **date_added** feature\n",
    "  - Added new feature - **\"Weekday Added\"** from the **date_added** feature"
   ]
  },
  {
   "cell_type": "code",
   "execution_count": 119,
   "id": "9505c863",
   "metadata": {},
   "outputs": [],
   "source": [
    "# Creating the copy of the day before manipulating the date time information.\n",
    "netflix_date = netflix_data.copy()"
   ]
  },
  {
   "cell_type": "code",
   "execution_count": 125,
   "id": "b844ecb1",
   "metadata": {},
   "outputs": [
    {
     "data": {
      "text/plain": [
       "(8807, 11)"
      ]
     },
     "execution_count": 125,
     "metadata": {},
     "output_type": "execute_result"
    }
   ],
   "source": [
    "netflix_date.shape"
   ]
  },
  {
   "cell_type": "markdown",
   "id": "2d2ec7b1",
   "metadata": {},
   "source": [
    "### Removed the missing values before Analysising"
   ]
  },
  {
   "cell_type": "code",
   "execution_count": 152,
   "id": "177ed000",
   "metadata": {},
   "outputs": [],
   "source": [
    "netflix_date.dropna(subset = ['date_added'],inplace= True)"
   ]
  },
  {
   "cell_type": "code",
   "execution_count": 153,
   "id": "c4ee6237",
   "metadata": {},
   "outputs": [
    {
     "data": {
      "text/plain": [
       "(8797, 15)"
      ]
     },
     "execution_count": 153,
     "metadata": {},
     "output_type": "execute_result"
    }
   ],
   "source": [
    "netflix_date.shape"
   ]
  },
  {
   "cell_type": "code",
   "execution_count": 154,
   "id": "74f45286",
   "metadata": {},
   "outputs": [],
   "source": [
    "netflix_date[\"year_added\"] = netflix_date['date_added'].dt.year\n",
    "netflix_date[\"year_added\"] = netflix_date[\"year_added\"].astype(\"Int64\")\n",
    "netflix_date[\"month_added\"] = netflix_date['date_added'].dt.month\n",
    "netflix_date[\"month_added\"] = netflix_date[\"month_added\"].astype(\"Int64\")\n",
    "netflix_date[\"day_added\"] = netflix_date['date_added'].dt.day\n",
    "netflix_date[\"day_added\"] = netflix_date[\"day_added\"].astype(\"Int64\")\n",
    "netflix_date['Weekday_added'] = netflix_date['date_added'].apply(lambda x: parse(str(x)).strftime(\"%A\"))"
   ]
  },
  {
   "cell_type": "code",
   "execution_count": 155,
   "id": "ce893356",
   "metadata": {},
   "outputs": [
    {
     "name": "stdout",
     "output_type": "stream",
     "text": [
      "<class 'pandas.core.frame.DataFrame'>\n",
      "Int64Index: 8797 entries, 0 to 8806\n",
      "Data columns (total 15 columns):\n",
      " #   Column         Non-Null Count  Dtype         \n",
      "---  ------         --------------  -----         \n",
      " 0   type           8797 non-null   object        \n",
      " 1   title          8797 non-null   object        \n",
      " 2   director       6173 non-null   object        \n",
      " 3   cast           7972 non-null   object        \n",
      " 4   country        7967 non-null   object        \n",
      " 5   date_added     8797 non-null   datetime64[ns]\n",
      " 6   release_year   8797 non-null   int64         \n",
      " 7   rating         8793 non-null   object        \n",
      " 8   duration       8794 non-null   object        \n",
      " 9   genres         8797 non-null   object        \n",
      " 10  description    8797 non-null   object        \n",
      " 11  year_added     8797 non-null   Int64         \n",
      " 12  month_added    8797 non-null   Int64         \n",
      " 13  day_added      8797 non-null   Int64         \n",
      " 14  Weekday_added  8797 non-null   object        \n",
      "dtypes: Int64(3), datetime64[ns](1), int64(1), object(10)\n",
      "memory usage: 1.1+ MB\n"
     ]
    }
   ],
   "source": [
    "netflix_date.info()"
   ]
  },
  {
   "cell_type": "markdown",
   "id": "3538848d",
   "metadata": {},
   "source": [
    "### Analyzing basic statistics about each feature, such as count, min, max, and mean."
   ]
  },
  {
   "cell_type": "code",
   "execution_count": 157,
   "id": "8a1c2a70",
   "metadata": {},
   "outputs": [
    {
     "data": {
      "text/html": [
       "<div>\n",
       "<style scoped>\n",
       "    .dataframe tbody tr th:only-of-type {\n",
       "        vertical-align: middle;\n",
       "    }\n",
       "\n",
       "    .dataframe tbody tr th {\n",
       "        vertical-align: top;\n",
       "    }\n",
       "\n",
       "    .dataframe thead th {\n",
       "        text-align: right;\n",
       "    }\n",
       "</style>\n",
       "<table border=\"1\" class=\"dataframe\">\n",
       "  <thead>\n",
       "    <tr style=\"text-align: right;\">\n",
       "      <th></th>\n",
       "      <th>release_year</th>\n",
       "      <th>year_added</th>\n",
       "      <th>month_added</th>\n",
       "      <th>day_added</th>\n",
       "    </tr>\n",
       "  </thead>\n",
       "  <tbody>\n",
       "    <tr>\n",
       "      <th>count</th>\n",
       "      <td>8797.000000</td>\n",
       "      <td>8797.000000</td>\n",
       "      <td>8797.000000</td>\n",
       "      <td>8797.000000</td>\n",
       "    </tr>\n",
       "    <tr>\n",
       "      <th>mean</th>\n",
       "      <td>2014.183472</td>\n",
       "      <td>2018.871888</td>\n",
       "      <td>6.654996</td>\n",
       "      <td>12.497329</td>\n",
       "    </tr>\n",
       "    <tr>\n",
       "      <th>std</th>\n",
       "      <td>8.822191</td>\n",
       "      <td>1.574243</td>\n",
       "      <td>3.436554</td>\n",
       "      <td>9.887551</td>\n",
       "    </tr>\n",
       "    <tr>\n",
       "      <th>min</th>\n",
       "      <td>1925.000000</td>\n",
       "      <td>2008.000000</td>\n",
       "      <td>1.000000</td>\n",
       "      <td>1.000000</td>\n",
       "    </tr>\n",
       "    <tr>\n",
       "      <th>25%</th>\n",
       "      <td>2013.000000</td>\n",
       "      <td>2018.000000</td>\n",
       "      <td>4.000000</td>\n",
       "      <td>1.000000</td>\n",
       "    </tr>\n",
       "    <tr>\n",
       "      <th>50%</th>\n",
       "      <td>2017.000000</td>\n",
       "      <td>2019.000000</td>\n",
       "      <td>7.000000</td>\n",
       "      <td>13.000000</td>\n",
       "    </tr>\n",
       "    <tr>\n",
       "      <th>75%</th>\n",
       "      <td>2019.000000</td>\n",
       "      <td>2020.000000</td>\n",
       "      <td>10.000000</td>\n",
       "      <td>20.000000</td>\n",
       "    </tr>\n",
       "    <tr>\n",
       "      <th>max</th>\n",
       "      <td>2021.000000</td>\n",
       "      <td>2021.000000</td>\n",
       "      <td>12.000000</td>\n",
       "      <td>31.000000</td>\n",
       "    </tr>\n",
       "  </tbody>\n",
       "</table>\n",
       "</div>"
      ],
      "text/plain": [
       "       release_year   year_added  month_added    day_added\n",
       "count   8797.000000  8797.000000  8797.000000  8797.000000\n",
       "mean    2014.183472  2018.871888     6.654996    12.497329\n",
       "std        8.822191     1.574243     3.436554     9.887551\n",
       "min     1925.000000  2008.000000     1.000000     1.000000\n",
       "25%     2013.000000  2018.000000     4.000000     1.000000\n",
       "50%     2017.000000  2019.000000     7.000000    13.000000\n",
       "75%     2019.000000  2020.000000    10.000000    20.000000\n",
       "max     2021.000000  2021.000000    12.000000    31.000000"
      ]
     },
     "execution_count": 157,
     "metadata": {},
     "output_type": "execute_result"
    }
   ],
   "source": [
    "netflix_date.describe()"
   ]
  },
  {
   "cell_type": "markdown",
   "id": "a50f7429",
   "metadata": {},
   "source": [
    "### Inference\n",
    "  - Netflix has **25%** of movies and TV shows that were released within the **last two years**\n",
    "  - About **75%** of Netflix's content consists of movies and TV shows **released after 2013**\n",
    "  - Data from Netflix shows that **new trend movies or TV shows are more prevalent**.\n",
    "  - For more subscribers, Netflix should invest in **classic Movies and TV shows.**"
   ]
  },
  {
   "cell_type": "markdown",
   "id": "110c8591",
   "metadata": {},
   "source": [
    "## <u>Univariante Analysis<u>\n"
   ]
  },
  {
   "cell_type": "markdown",
   "id": "de601588",
   "metadata": {},
   "source": [
    "#### Feature Name\n",
    "  - **Type** - Movies & TV shows - Distribution\n",
    "  - **date_added** - Checking number of new Contents added yearly, monthly, which date and Weekend-Weekday\n",
    "  - **release_year** - "
   ]
  },
  {
   "cell_type": "markdown",
   "id": "12c6a0fd",
   "metadata": {},
   "source": [
    "### Movies & TV shows - Distribution"
   ]
  },
  {
   "cell_type": "code",
   "execution_count": 213,
   "id": "c9d827a7",
   "metadata": {},
   "outputs": [
    {
     "data": {
      "image/png": "[encoded data removed]",
      "text/plain": [
       "<Figure size 432x288 with 1 Axes>"
      ]
     },
     "metadata": {},
     "output_type": "display_data"
    }
   ],
   "source": [
    "data = netflix_data.groupby(\"type\")['type'].count()\n",
    "\n",
    "explode=(0.08,0)\n",
    "labels = ['Movie', 'TV Show']\n",
    "colors = sns.color_palette(\"Reds\")\n",
    "plt.pie(data, labels=labels,colors = colors, autopct = '%0.0f%%', explode = explode)\n",
    "plt.show()"
   ]
  },
  {
   "cell_type": "markdown",
   "id": "d6ccbdd4",
   "metadata": {},
   "source": [
    "### Inference\n",
    "  - Netflix has **70%** of its content as movies\n",
    "  - **Movies** are clearly more **popular on Netflix than TV shows**.\n"
   ]
  },
  {
   "cell_type": "markdown",
   "id": "1fc82e3b",
   "metadata": {},
   "source": [
    "### Checking number of new Contents added yearly"
   ]
  },
  {
   "cell_type": "code",
   "execution_count": 220,
   "id": "2715016b",
   "metadata": {},
   "outputs": [
    {
     "data": {
      "text/plain": [
       "Text(0.5, 0, 'Year on which Movies added on Netflix')"
      ]
     },
     "execution_count": 220,
     "metadata": {},
     "output_type": "execute_result"
    },
    {
     "data": {
      "image/png": "[encoded data removed]",
      "text/plain": [
       "<Figure size 1080x360 with 1 Axes>"
      ]
     },
     "metadata": {},
     "output_type": "display_data"
    }
   ],
   "source": [
    "fig = plt.figure(figsize=(15,5))\n",
    "sns.set(style='whitegrid')\n",
    "fig.set_facecolor(\"lightgrey\")\n",
    "count = (netflix_date['year_added'].value_counts(normalize=True)*100)\n",
    "count.plot.bar(color=sns.color_palette('Reds'))\n",
    "plt.ylabel('\"Frequency of Movies added in %', fontsize=12)\n",
    "plt.xlabel('Year on which Movies added on Netflix', fontsize=12)"
   ]
  },
  {
   "cell_type": "code",
   "execution_count": 221,
   "id": "8b9b72ea",
   "metadata": {},
   "outputs": [
    {
     "data": {
      "text/plain": [
       "<AxesSubplot:xlabel='year_added', ylabel='count'>"
      ]
     },
     "execution_count": 221,
     "metadata": {},
     "output_type": "execute_result"
    },
    {
     "data": {
      "image/png": "[encoded data removed]",
      "text/plain": [
       "<Figure size 1080x360 with 1 Axes>"
      ]
     },
     "metadata": {},
     "output_type": "display_data"
    }
   ],
   "source": [
    "fig = plt.figure(figsize=(15,5))\n",
    "sns.set(style='whitegrid')\n",
    "fig.set_facecolor(\"lightgrey\")\n",
    "sns.countplot(data=netflix_date,x = 'year_added',palette =\"Reds\")"
   ]
  },
  {
   "cell_type": "code",
   "execution_count": 209,
   "id": "57bdcc70",
   "metadata": {},
   "outputs": [
    {
     "data": {
      "text/plain": [
       "<AxesSubplot:xlabel='year_added', ylabel='Count'>"
      ]
     },
     "execution_count": 209,
     "metadata": {},
     "output_type": "execute_result"
    },
    {
     "data": {
      "image/png": "[encoded data removed]",
      "text/plain": [
       "<Figure size 1080x360 with 1 Axes>"
      ]
     },
     "metadata": {},
     "output_type": "display_data"
    }
   ],
   "source": [
    "fig = plt.figure(figsize=(15,5))\n",
    "sns.set(style='whitegrid')\n",
    "fig.set_facecolor(\"lightgrey\")\n",
    "sns.histplot(data=netflix_date,x = 'year_added',bins = 12,color='r', shrink=.9)"
   ]
  },
  {
   "cell_type": "markdown",
   "id": "b7791aed",
   "metadata": {},
   "source": [
    "### Inference \n",
    "  - "
   ]
  },
  {
   "cell_type": "markdown",
   "id": "322aacbd",
   "metadata": {},
   "source": [
    "### Checking number of new Contents added montly"
   ]
  },
  {
   "cell_type": "code",
   "execution_count": 208,
   "id": "20e180d7",
   "metadata": {},
   "outputs": [
    {
     "data": {
      "text/plain": [
       "<AxesSubplot:xlabel='month_added', ylabel='count'>"
      ]
     },
     "execution_count": 208,
     "metadata": {},
     "output_type": "execute_result"
    },
    {
     "data": {
      "image/png": "[encoded data removed]",
      "text/plain": [
       "<Figure size 1080x360 with 1 Axes>"
      ]
     },
     "metadata": {},
     "output_type": "display_data"
    }
   ],
   "source": [
    "fig = plt.figure(figsize=(15,5))\n",
    "sns.set(style='whitegrid')\n",
    "fig.set_facecolor(\"lightgrey\")\n",
    "sns.countplot(data=netflix_date,x = 'month_added',palette =\"Reds\")"
   ]
  },
  {
   "cell_type": "markdown",
   "id": "a96c2079",
   "metadata": {},
   "source": [
    "### Inference"
   ]
  },
  {
   "cell_type": "markdown",
   "id": "164d7192",
   "metadata": {},
   "source": [
    "### Checking number of new Contents on Weekends"
   ]
  },
  {
   "cell_type": "code",
   "execution_count": 222,
   "id": "eba86dca",
   "metadata": {},
   "outputs": [
    {
     "data": {
      "text/plain": [
       "Text(0.5, 0, 'Year on which Movies added on Netflix')"
      ]
     },
     "execution_count": 222,
     "metadata": {},
     "output_type": "execute_result"
    },
    {
     "data": {
      "image/png": "[encoded data removed]",
      "text/plain": [
       "<Figure size 1080x360 with 1 Axes>"
      ]
     },
     "metadata": {},
     "output_type": "display_data"
    }
   ],
   "source": [
    "fig = plt.figure(figsize=(15,5))\n",
    "sns.set(style='whitegrid')\n",
    "fig.set_facecolor(\"lightgrey\")\n",
    "count = (netflix_date['Weekday_added'].value_counts(normalize=True)*100)\n",
    "count.plot.bar(color=sns.color_palette('Reds'))\n",
    "plt.ylabel('\"Frequency of Movies added in %', fontsize=12)\n",
    "plt.xlabel('Year on which Movies added on Netflix', fontsize=12)"
   ]
  },
  {
   "cell_type": "code",
   "execution_count": 207,
   "id": "4a5275ad",
   "metadata": {},
   "outputs": [
    {
     "data": {
      "text/plain": [
       "<AxesSubplot:xlabel='Weekday_added', ylabel='count'>"
      ]
     },
     "execution_count": 207,
     "metadata": {},
     "output_type": "execute_result"
    },
    {
     "data": {
      "image/png": "[encoded data removed]",
      "text/plain": [
       "<Figure size 1080x360 with 1 Axes>"
      ]
     },
     "metadata": {},
     "output_type": "display_data"
    }
   ],
   "source": [
    "fig = plt.figure(figsize=(15,5))\n",
    "sns.set(style='whitegrid')\n",
    "fig.set_facecolor(\"lightgrey\")\n",
    "sns.countplot(data=netflix_date,x = 'Weekday_added',palette =\"Reds\")"
   ]
  },
  {
   "cell_type": "markdown",
   "id": "6f042804",
   "metadata": {},
   "source": [
    "### Inference"
   ]
  },
  {
   "cell_type": "code",
   "execution_count": 206,
   "id": "3bf41ca3",
   "metadata": {},
   "outputs": [
    {
     "data": {
      "text/plain": [
       "Text(0.5, 0, 'Date on which Movies added on Netflix')"
      ]
     },
     "execution_count": 206,
     "metadata": {},
     "output_type": "execute_result"
    },
    {
     "data": {
      "image/png": "[encoded data removed]",
      "text/plain": [
       "<Figure size 1080x360 with 1 Axes>"
      ]
     },
     "metadata": {},
     "output_type": "display_data"
    }
   ],
   "source": [
    "fig = plt.figure(figsize=(15,5))\n",
    "sns.set(style='whitegrid')\n",
    "fig.set_facecolor(\"lightgrey\")\n",
    "count = (netflix_date['day_added'].value_counts(normalize=True)*100)\n",
    "count.plot.bar(color=sns.color_palette('Reds'))\n",
    "plt.ylabel('\"Frequency of Movies added in %', fontsize=12)\n",
    "plt.xlabel('Date on which Movies added on Netflix', fontsize=12)"
   ]
  },
  {
   "cell_type": "code",
   "execution_count": null,
   "id": "f683126c",
   "metadata": {},
   "outputs": [],
   "source": []
  },
  {
   "cell_type": "code",
   "execution_count": null,
   "id": "e2b84a77",
   "metadata": {},
   "outputs": [],
   "source": []
  },
  {
   "cell_type": "code",
   "execution_count": 217,
   "id": "e7aeb3fa",
   "metadata": {},
   "outputs": [
    {
     "data": {
      "text/plain": [
       "<AxesSubplot:xlabel='release_year', ylabel='count'>"
      ]
     },
     "execution_count": 217,
     "metadata": {},
     "output_type": "execute_result"
    },
    {
     "data": {
      "image/png": "[encoded data removed]",
      "text/plain": [
       "<Figure size 1080x360 with 1 Axes>"
      ]
     },
     "metadata": {},
     "output_type": "display_data"
    }
   ],
   "source": [
    "fig = plt.figure(figsize=(15,5))\n",
    "sns.set(style='whitegrid')\n",
    "fig.set_facecolor(\"lightgrey\")\n",
    "sns.countplot(data=netflix_date,x = 'release_year',palette =\"Reds\")"
   ]
  },
  {
   "cell_type": "code",
   "execution_count": 216,
   "id": "bc2d549a",
   "metadata": {},
   "outputs": [
    {
     "data": {
      "text/plain": [
       "<AxesSubplot:xlabel='release_year', ylabel='Count'>"
      ]
     },
     "execution_count": 216,
     "metadata": {},
     "output_type": "execute_result"
    },
    {
     "data": {
      "image/png": "[encoded data removed]",
      "text/plain": [
       "<Figure size 1080x360 with 1 Axes>"
      ]
     },
     "metadata": {},
     "output_type": "display_data"
    }
   ],
   "source": [
    "fig = plt.figure(figsize=(15,5))\n",
    "sns.set(style='whitegrid')\n",
    "fig.set_facecolor(\"lightgrey\")\n",
    "sns.histplot(data=netflix_date,x = 'release_year',color='r', shrink=.9)"
   ]
  },
  {
   "cell_type": "code",
   "execution_count": 198,
   "id": "2f0051ff",
   "metadata": {},
   "outputs": [
    {
     "data": {
      "text/plain": [
       "<AxesSubplot:xlabel='day_added', ylabel='count'>"
      ]
     },
     "execution_count": 198,
     "metadata": {},
     "output_type": "execute_result"
    },
    {
     "data": {
      "image/png": "[encoded data removed]",
      "text/plain": [
       "<Figure size 1080x360 with 1 Axes>"
      ]
     },
     "metadata": {},
     "output_type": "display_data"
    }
   ],
   "source": [
    "fig = plt.figure(figsize=(15,5))\n",
    "sns.set(style='white')\n",
    "fig.set_facecolor(\"lightgrey\")\n",
    "sns.countplot(data=netflix_date,x = 'day_added',palette =\"Reds\")"
   ]
  },
  {
   "cell_type": "code",
   "execution_count": null,
   "id": "c1d11560",
   "metadata": {},
   "outputs": [],
   "source": [
    "### Inferences\n",
    " - "
   ]
  },
  {
   "cell_type": "code",
   "execution_count": 197,
   "id": "dd51bd54",
   "metadata": {},
   "outputs": [
    {
     "data": {
      "text/plain": [
       "<AxesSubplot:xlabel='day_added', ylabel='Count'>"
      ]
     },
     "execution_count": 197,
     "metadata": {},
     "output_type": "execute_result"
    },
    {
     "data": {
      "image/png": "[encoded data removed]",
      "text/plain": [
       "<Figure size 1080x360 with 1 Axes>"
      ]
     },
     "metadata": {},
     "output_type": "display_data"
    }
   ],
   "source": [
    "fig = plt.figure(figsize=(15,5))\n",
    "sns.set(style='white')\n",
    "fig.set_facecolor(\"lightgrey\")\n",
    "sns.histplot(data=netflix_date,x = 'day_added',bins = 31,kde=True,color='r', shrink=.9)"
   ]
  },
  {
   "cell_type": "code",
   "execution_count": null,
   "id": "776b7b60",
   "metadata": {},
   "outputs": [],
   "source": [
    "fig = plt.figure(figsize=(15,5))\n",
    "sns.set(style='white')\n",
    "fig.set_facecolor(\"lightgrey\")"
   ]
  },
  {
   "cell_type": "code",
   "execution_count": 167,
   "id": "bdf611fc",
   "metadata": {},
   "outputs": [
    {
     "name": "stdout",
     "output_type": "stream",
     "text": [
      "\n",
      "  Downloading plotly-5.5.0-py2.py3-none-any.whl (26.5 MB)\n",
      "Collecting tenacity>=6.2.0\n",
      "  Downloading tenacity-8.0.1-py3-none-any.whl (24 kB)\n",
      "Requirement already satisfied: six in c:\\users\\getfit\\anaconda3\\lib\\site-packages (from plotly) (1.16.0)\n",
      "Installing collected packages: tenacity, plotly\n",
      "Successfully installed plotly-5.5.0 tenacity-8.0.1\n"
     ]
    },
    {
     "data": {
      "text/plain": [
       "<AxesSubplot:xlabel='month_added', ylabel='count'>"
      ]
     },
     "execution_count": 167,
     "metadata": {},
     "output_type": "execute_result"
    },
    {
     "data": {
      "image/png": "[encoded data removed]",
      "text/plain": [
       "<Figure size 1080x360 with 1 Axes>"
      ]
     },
     "metadata": {},
     "output_type": "display_data"
    }
   ],
   "source": []
  },
  {
   "cell_type": "code",
   "execution_count": 178,
   "id": "ed332714",
   "metadata": {},
   "outputs": [
    {
     "data": {
      "text/plain": [
       "<AxesSubplot:xlabel='month_added', ylabel='Count'>"
      ]
     },
     "execution_count": 178,
     "metadata": {},
     "output_type": "execute_result"
    },
    {
     "data": {
      "image/png": "[encoded data removed]",
      "text/plain": [
       "<Figure size 432x288 with 1 Axes>"
      ]
     },
     "metadata": {},
     "output_type": "display_data"
    }
   ],
   "source": [
    "sns.histplot(data=netflix_date,x = 'month_added',bins = 12,kde=True,hue=\"type\",multiple=\"dodge\", shrink=.8)"
   ]
  },
  {
   "cell_type": "code",
   "execution_count": 92,
   "id": "c2fd5de0",
   "metadata": {},
   "outputs": [],
   "source": [
    "fig = plt.figure(figsize=(40,100))\n",
    "sns.set(style='white')\n",
    "fig.set_facecolor(\"lightgrey\")\n",
    "\n",
    "plt.figure(figsize=(20, 12))\n",
    "plt.subplot(2,2,1)\n",
    "sns.scatterplot(data=netflix_date, x='CPU_Usg_mhz', y='Mem_Usg_kb',hue=\"Weekday\")\n",
    "plt.subplot(2,2,2)\n",
    "sns.scatterplot(data=netflix_date, x='CPU_Usg_mhz', y='disk_r_tp_kb',hue=\"Weekday\")"
   ]
  },
  {
   "cell_type": "code",
   "execution_count": 93,
   "id": "107e1666",
   "metadata": {},
   "outputs": [
    {
     "name": "stdout",
     "output_type": "stream",
     "text": [
      "<class 'pandas.core.frame.DataFrame'>\n",
      "Int64Index: 8807 entries, 0 to 8806\n",
      "Data columns (total 14 columns):\n",
      " #   Column        Non-Null Count  Dtype         \n",
      "---  ------        --------------  -----         \n",
      " 0   type          8807 non-null   object        \n",
      " 1   title         8807 non-null   object        \n",
      " 2   director      6173 non-null   object        \n",
      " 3   cast          7982 non-null   object        \n",
      " 4   country       7976 non-null   object        \n",
      " 5   date_added    8797 non-null   datetime64[ns]\n",
      " 6   release_year  8807 non-null   int64         \n",
      " 7   rating        8803 non-null   object        \n",
      " 8   duration      8804 non-null   object        \n",
      " 9   genres        8807 non-null   object        \n",
      " 10  description   8807 non-null   object        \n",
      " 11  year_added    8797 non-null   Int64         \n",
      " 12  month_added   8797 non-null   Int64         \n",
      " 13  day_added     8797 non-null   Int64         \n",
      "dtypes: Int64(3), datetime64[ns](1), int64(1), object(9)\n",
      "memory usage: 1.0+ MB\n"
     ]
    }
   ],
   "source": [
    "netflix_data.info()"
   ]
  },
  {
   "cell_type": "code",
   "execution_count": 95,
   "id": "9ad817ff",
   "metadata": {},
   "outputs": [
    {
     "data": {
      "text/html": [
       "<div>\n",
       "<style scoped>\n",
       "    .dataframe tbody tr th:only-of-type {\n",
       "        vertical-align: middle;\n",
       "    }\n",
       "\n",
       "    .dataframe tbody tr th {\n",
       "        vertical-align: top;\n",
       "    }\n",
       "\n",
       "    .dataframe thead th {\n",
       "        text-align: right;\n",
       "    }\n",
       "</style>\n",
       "<table border=\"1\" class=\"dataframe\">\n",
       "  <thead>\n",
       "    <tr style=\"text-align: right;\">\n",
       "      <th></th>\n",
       "      <th>type</th>\n",
       "      <th>title</th>\n",
       "      <th>director</th>\n",
       "      <th>cast</th>\n",
       "      <th>country</th>\n",
       "      <th>date_added</th>\n",
       "      <th>release_year</th>\n",
       "      <th>rating</th>\n",
       "      <th>duration</th>\n",
       "      <th>genres</th>\n",
       "      <th>description</th>\n",
       "      <th>year_added</th>\n",
       "      <th>month_added</th>\n",
       "      <th>day_added</th>\n",
       "    </tr>\n",
       "  </thead>\n",
       "  <tbody>\n",
       "    <tr>\n",
       "      <th>0</th>\n",
       "      <td>Movie</td>\n",
       "      <td>Dick Johnson Is Dead</td>\n",
       "      <td>Kirsten Johnson</td>\n",
       "      <td>NaN</td>\n",
       "      <td>United States</td>\n",
       "      <td>2021-09-25</td>\n",
       "      <td>2020</td>\n",
       "      <td>PG-13</td>\n",
       "      <td>90 min</td>\n",
       "      <td>Documentaries</td>\n",
       "      <td>As her father nears the end of his life, filmm...</td>\n",
       "      <td>2021</td>\n",
       "      <td>9</td>\n",
       "      <td>25</td>\n",
       "    </tr>\n",
       "    <tr>\n",
       "      <th>1</th>\n",
       "      <td>TV Show</td>\n",
       "      <td>Blood &amp; Water</td>\n",
       "      <td>NaN</td>\n",
       "      <td>Ama Qamata, Khosi Ngema, Gail Mabalane, Thaban...</td>\n",
       "      <td>South Africa</td>\n",
       "      <td>2021-09-24</td>\n",
       "      <td>2021</td>\n",
       "      <td>TV-MA</td>\n",
       "      <td>2 Seasons</td>\n",
       "      <td>International TV Shows, TV Dramas, TV Mysteries</td>\n",
       "      <td>After crossing paths at a party, a Cape Town t...</td>\n",
       "      <td>2021</td>\n",
       "      <td>9</td>\n",
       "      <td>24</td>\n",
       "    </tr>\n",
       "    <tr>\n",
       "      <th>2</th>\n",
       "      <td>TV Show</td>\n",
       "      <td>Ganglands</td>\n",
       "      <td>Julien Leclercq</td>\n",
       "      <td>Sami Bouajila, Tracy Gotoas, Samuel Jouy, Nabi...</td>\n",
       "      <td>NaN</td>\n",
       "      <td>2021-09-24</td>\n",
       "      <td>2021</td>\n",
       "      <td>TV-MA</td>\n",
       "      <td>1 Season</td>\n",
       "      <td>Crime TV Shows, International TV Shows, TV Act...</td>\n",
       "      <td>To protect his family from a powerful drug lor...</td>\n",
       "      <td>2021</td>\n",
       "      <td>9</td>\n",
       "      <td>24</td>\n",
       "    </tr>\n",
       "    <tr>\n",
       "      <th>3</th>\n",
       "      <td>TV Show</td>\n",
       "      <td>Jailbirds New Orleans</td>\n",
       "      <td>NaN</td>\n",
       "      <td>NaN</td>\n",
       "      <td>NaN</td>\n",
       "      <td>2021-09-24</td>\n",
       "      <td>2021</td>\n",
       "      <td>TV-MA</td>\n",
       "      <td>1 Season</td>\n",
       "      <td>Docuseries, Reality TV</td>\n",
       "      <td>Feuds, flirtations and toilet talk go down amo...</td>\n",
       "      <td>2021</td>\n",
       "      <td>9</td>\n",
       "      <td>24</td>\n",
       "    </tr>\n",
       "    <tr>\n",
       "      <th>4</th>\n",
       "      <td>TV Show</td>\n",
       "      <td>Kota Factory</td>\n",
       "      <td>NaN</td>\n",
       "      <td>Mayur More, Jitendra Kumar, Ranjan Raj, Alam K...</td>\n",
       "      <td>India</td>\n",
       "      <td>2021-09-24</td>\n",
       "      <td>2021</td>\n",
       "      <td>TV-MA</td>\n",
       "      <td>2 Seasons</td>\n",
       "      <td>International TV Shows, Romantic TV Shows, TV ...</td>\n",
       "      <td>In a city of coaching centers known to train I...</td>\n",
       "      <td>2021</td>\n",
       "      <td>9</td>\n",
       "      <td>24</td>\n",
       "    </tr>\n",
       "  </tbody>\n",
       "</table>\n",
       "</div>"
      ],
      "text/plain": [
       "      type                  title         director  \\\n",
       "0    Movie   Dick Johnson Is Dead  Kirsten Johnson   \n",
       "1  TV Show          Blood & Water              NaN   \n",
       "2  TV Show              Ganglands  Julien Leclercq   \n",
       "3  TV Show  Jailbirds New Orleans              NaN   \n",
       "4  TV Show           Kota Factory              NaN   \n",
       "\n",
       "                                                cast        country  \\\n",
       "0                                                NaN  United States   \n",
       "1  Ama Qamata, Khosi Ngema, Gail Mabalane, Thaban...   South Africa   \n",
       "2  Sami Bouajila, Tracy Gotoas, Samuel Jouy, Nabi...            NaN   \n",
       "3                                                NaN            NaN   \n",
       "4  Mayur More, Jitendra Kumar, Ranjan Raj, Alam K...          India   \n",
       "\n",
       "  date_added  release_year rating   duration  \\\n",
       "0 2021-09-25          2020  PG-13     90 min   \n",
       "1 2021-09-24          2021  TV-MA  2 Seasons   \n",
       "2 2021-09-24          2021  TV-MA   1 Season   \n",
       "3 2021-09-24          2021  TV-MA   1 Season   \n",
       "4 2021-09-24          2021  TV-MA  2 Seasons   \n",
       "\n",
       "                                              genres  \\\n",
       "0                                      Documentaries   \n",
       "1    International TV Shows, TV Dramas, TV Mysteries   \n",
       "2  Crime TV Shows, International TV Shows, TV Act...   \n",
       "3                             Docuseries, Reality TV   \n",
       "4  International TV Shows, Romantic TV Shows, TV ...   \n",
       "\n",
       "                                         description  year_added  month_added  \\\n",
       "0  As her father nears the end of his life, filmm...        2021            9   \n",
       "1  After crossing paths at a party, a Cape Town t...        2021            9   \n",
       "2  To protect his family from a powerful drug lor...        2021            9   \n",
       "3  Feuds, flirtations and toilet talk go down amo...        2021            9   \n",
       "4  In a city of coaching centers known to train I...        2021            9   \n",
       "\n",
       "   day_added  \n",
       "0         25  \n",
       "1         24  \n",
       "2         24  \n",
       "3         24  \n",
       "4         24  "
      ]
     },
     "execution_count": 95,
     "metadata": {},
     "output_type": "execute_result"
    }
   ],
   "source": [
    "netflix_data.head()"
   ]
  },
  {
   "cell_type": "code",
   "execution_count": null,
   "id": "20a46c03",
   "metadata": {},
   "outputs": [],
   "source": [
    "netflix_data = netflix_data['date_added'].dt.year"
   ]
  },
  {
   "cell_type": "code",
   "execution_count": 99,
   "id": "4cbdb339",
   "metadata": {},
   "outputs": [],
   "source": [
    "netflix_date = netflix_data[['date_added']].dropna()"
   ]
  },
  {
   "cell_type": "code",
   "execution_count": 100,
   "id": "8708c29a",
   "metadata": {},
   "outputs": [],
   "source": [
    "netflix_date['Weekday'] = netflix_date['date_added'].apply(lambda x: parse(str(x)).strftime(\"%A\"))"
   ]
  },
  {
   "cell_type": "code",
   "execution_count": 101,
   "id": "45ef6d34",
   "metadata": {},
   "outputs": [
    {
     "data": {
      "text/html": [
       "<div>\n",
       "<style scoped>\n",
       "    .dataframe tbody tr th:only-of-type {\n",
       "        vertical-align: middle;\n",
       "    }\n",
       "\n",
       "    .dataframe tbody tr th {\n",
       "        vertical-align: top;\n",
       "    }\n",
       "\n",
       "    .dataframe thead th {\n",
       "        text-align: right;\n",
       "    }\n",
       "</style>\n",
       "<table border=\"1\" class=\"dataframe\">\n",
       "  <thead>\n",
       "    <tr style=\"text-align: right;\">\n",
       "      <th></th>\n",
       "      <th>date_added</th>\n",
       "      <th>Weekday</th>\n",
       "    </tr>\n",
       "  </thead>\n",
       "  <tbody>\n",
       "    <tr>\n",
       "      <th>0</th>\n",
       "      <td>2021-09-25</td>\n",
       "      <td>Saturday</td>\n",
       "    </tr>\n",
       "    <tr>\n",
       "      <th>1</th>\n",
       "      <td>2021-09-24</td>\n",
       "      <td>Friday</td>\n",
       "    </tr>\n",
       "    <tr>\n",
       "      <th>2</th>\n",
       "      <td>2021-09-24</td>\n",
       "      <td>Friday</td>\n",
       "    </tr>\n",
       "    <tr>\n",
       "      <th>3</th>\n",
       "      <td>2021-09-24</td>\n",
       "      <td>Friday</td>\n",
       "    </tr>\n",
       "    <tr>\n",
       "      <th>4</th>\n",
       "      <td>2021-09-24</td>\n",
       "      <td>Friday</td>\n",
       "    </tr>\n",
       "  </tbody>\n",
       "</table>\n",
       "</div>"
      ],
      "text/plain": [
       "  date_added   Weekday\n",
       "0 2021-09-25  Saturday\n",
       "1 2021-09-24    Friday\n",
       "2 2021-09-24    Friday\n",
       "3 2021-09-24    Friday\n",
       "4 2021-09-24    Friday"
      ]
     },
     "execution_count": 101,
     "metadata": {},
     "output_type": "execute_result"
    }
   ],
   "source": [
    "netflix_date.head()"
   ]
  },
  {
   "cell_type": "markdown",
   "id": "e980bd74",
   "metadata": {},
   "source": [
    "## Inferences \n",
    "  - "
   ]
  },
  {
   "cell_type": "markdown",
   "id": "16f5cc30",
   "metadata": {},
   "source": [
    "## Inferences \n",
    "  - We see 40% more **Movies** than **TV Shows** on Netflix."
   ]
  },
  {
   "cell_type": "code",
   "execution_count": 24,
   "id": "ecb53a52",
   "metadata": {},
   "outputs": [],
   "source": [
    "netflix_data_v1[['genre_1','genre_2','genre_3']] = netflix_data['genres'].str.split(',', expand=True)"
   ]
  },
  {
   "cell_type": "code",
   "execution_count": 52,
   "id": "430b1ff8",
   "metadata": {},
   "outputs": [
    {
     "data": {
      "text/plain": [
       "array(['Documentaries', 'International TV Shows', 'Crime TV Shows',\n",
       "       'Docuseries', 'TV Dramas', 'Children & Family Movies', 'Dramas',\n",
       "       'British TV Shows', 'Comedies', 'TV Comedies', 'Thrillers',\n",
       "       'Horror Movies', \"Kids' TV\", 'Action & Adventure', 'Reality TV',\n",
       "       'Anime Series', 'International Movies', 'Sci-Fi & Fantasy',\n",
       "       'Classic Movies', 'TV Shows', 'Stand-Up Comedy',\n",
       "       'TV Action & Adventure', 'Movies', 'Stand-Up Comedy & Talk Shows',\n",
       "       'Classic & Cult TV', 'Anime Features', 'Romantic TV Shows',\n",
       "       'Cult Movies', 'Independent Movies', 'TV Horror',\n",
       "       'Spanish-Language TV Shows', 'Music & Musicals', 'Romantic Movies',\n",
       "       'LGBTQ Movies', 'TV Sci-Fi & Fantasy', 'Sports Movies'],\n",
       "      dtype=object)"
      ]
     },
     "execution_count": 52,
     "metadata": {},
     "output_type": "execute_result"
    }
   ],
   "source": [
    "netflix_data_v1['genre_1'].unique()"
   ]
  },
  {
   "cell_type": "code",
   "execution_count": 21,
   "id": "7af00dba",
   "metadata": {},
   "outputs": [
    {
     "data": {
      "text/html": [
       "<div>\n",
       "<style scoped>\n",
       "    .dataframe tbody tr th:only-of-type {\n",
       "        vertical-align: middle;\n",
       "    }\n",
       "\n",
       "    .dataframe tbody tr th {\n",
       "        vertical-align: top;\n",
       "    }\n",
       "\n",
       "    .dataframe thead th {\n",
       "        text-align: right;\n",
       "    }\n",
       "</style>\n",
       "<table border=\"1\" class=\"dataframe\">\n",
       "  <thead>\n",
       "    <tr style=\"text-align: right;\">\n",
       "      <th></th>\n",
       "      <th>0</th>\n",
       "      <th>1</th>\n",
       "      <th>2</th>\n",
       "    </tr>\n",
       "  </thead>\n",
       "  <tbody>\n",
       "    <tr>\n",
       "      <th>0</th>\n",
       "      <td>Documentaries</td>\n",
       "      <td>None</td>\n",
       "      <td>None</td>\n",
       "    </tr>\n",
       "    <tr>\n",
       "      <th>1</th>\n",
       "      <td>International TV Shows</td>\n",
       "      <td>TV Dramas</td>\n",
       "      <td>TV Mysteries</td>\n",
       "    </tr>\n",
       "    <tr>\n",
       "      <th>2</th>\n",
       "      <td>Crime TV Shows</td>\n",
       "      <td>International TV Shows</td>\n",
       "      <td>TV Action &amp; Adventure</td>\n",
       "    </tr>\n",
       "    <tr>\n",
       "      <th>3</th>\n",
       "      <td>Docuseries</td>\n",
       "      <td>Reality TV</td>\n",
       "      <td>None</td>\n",
       "    </tr>\n",
       "    <tr>\n",
       "      <th>4</th>\n",
       "      <td>International TV Shows</td>\n",
       "      <td>Romantic TV Shows</td>\n",
       "      <td>TV Comedies</td>\n",
       "    </tr>\n",
       "  </tbody>\n",
       "</table>\n",
       "</div>"
      ],
      "text/plain": [
       "                        0                        1                       2\n",
       "0           Documentaries                     None                    None\n",
       "1  International TV Shows                TV Dramas            TV Mysteries\n",
       "2          Crime TV Shows   International TV Shows   TV Action & Adventure\n",
       "3              Docuseries               Reality TV                    None\n",
       "4  International TV Shows        Romantic TV Shows             TV Comedies"
      ]
     },
     "execution_count": 21,
     "metadata": {},
     "output_type": "execute_result"
    }
   ],
   "source": [
    "netflix_data_v1.head()"
   ]
  },
  {
   "cell_type": "code",
   "execution_count": 28,
   "id": "fce70782",
   "metadata": {},
   "outputs": [
    {
     "data": {
      "text/html": [
       "<div>\n",
       "<style scoped>\n",
       "    .dataframe tbody tr th:only-of-type {\n",
       "        vertical-align: middle;\n",
       "    }\n",
       "\n",
       "    .dataframe tbody tr th {\n",
       "        vertical-align: top;\n",
       "    }\n",
       "\n",
       "    .dataframe thead th {\n",
       "        text-align: right;\n",
       "    }\n",
       "</style>\n",
       "<table border=\"1\" class=\"dataframe\">\n",
       "  <thead>\n",
       "    <tr style=\"text-align: right;\">\n",
       "      <th></th>\n",
       "      <th>type</th>\n",
       "      <th>movie_title</th>\n",
       "      <th>director</th>\n",
       "      <th>cast</th>\n",
       "      <th>country</th>\n",
       "      <th>date_added</th>\n",
       "      <th>release_year</th>\n",
       "      <th>rating</th>\n",
       "      <th>duration</th>\n",
       "      <th>genres</th>\n",
       "      <th>description</th>\n",
       "      <th>year_added</th>\n",
       "      <th>year_month</th>\n",
       "    </tr>\n",
       "  </thead>\n",
       "  <tbody>\n",
       "    <tr>\n",
       "      <th>0</th>\n",
       "      <td>Movie</td>\n",
       "      <td>Dick Johnson Is Dead</td>\n",
       "      <td>Kirsten Johnson</td>\n",
       "      <td>NaN</td>\n",
       "      <td>United States</td>\n",
       "      <td>2021-09-25</td>\n",
       "      <td>2020</td>\n",
       "      <td>PG-13</td>\n",
       "      <td>90 min</td>\n",
       "      <td>Documentaries</td>\n",
       "      <td>As her father nears the end of his life, filmm...</td>\n",
       "      <td>2021.0</td>\n",
       "      <td>9.0</td>\n",
       "    </tr>\n",
       "    <tr>\n",
       "      <th>1</th>\n",
       "      <td>TV Show</td>\n",
       "      <td>Blood &amp; Water</td>\n",
       "      <td>NaN</td>\n",
       "      <td>Ama Qamata, Khosi Ngema, Gail Mabalane, Thaban...</td>\n",
       "      <td>South Africa</td>\n",
       "      <td>2021-09-24</td>\n",
       "      <td>2021</td>\n",
       "      <td>TV-MA</td>\n",
       "      <td>2 Seasons</td>\n",
       "      <td>International TV Shows, TV Dramas, TV Mysteries</td>\n",
       "      <td>After crossing paths at a party, a Cape Town t...</td>\n",
       "      <td>2021.0</td>\n",
       "      <td>9.0</td>\n",
       "    </tr>\n",
       "    <tr>\n",
       "      <th>2</th>\n",
       "      <td>TV Show</td>\n",
       "      <td>Ganglands</td>\n",
       "      <td>Julien Leclercq</td>\n",
       "      <td>Sami Bouajila, Tracy Gotoas, Samuel Jouy, Nabi...</td>\n",
       "      <td>NaN</td>\n",
       "      <td>2021-09-24</td>\n",
       "      <td>2021</td>\n",
       "      <td>TV-MA</td>\n",
       "      <td>1 Season</td>\n",
       "      <td>Crime TV Shows, International TV Shows, TV Act...</td>\n",
       "      <td>To protect his family from a powerful drug lor...</td>\n",
       "      <td>2021.0</td>\n",
       "      <td>9.0</td>\n",
       "    </tr>\n",
       "    <tr>\n",
       "      <th>3</th>\n",
       "      <td>TV Show</td>\n",
       "      <td>Jailbirds New Orleans</td>\n",
       "      <td>NaN</td>\n",
       "      <td>NaN</td>\n",
       "      <td>NaN</td>\n",
       "      <td>2021-09-24</td>\n",
       "      <td>2021</td>\n",
       "      <td>TV-MA</td>\n",
       "      <td>1 Season</td>\n",
       "      <td>Docuseries, Reality TV</td>\n",
       "      <td>Feuds, flirtations and toilet talk go down amo...</td>\n",
       "      <td>2021.0</td>\n",
       "      <td>9.0</td>\n",
       "    </tr>\n",
       "    <tr>\n",
       "      <th>4</th>\n",
       "      <td>TV Show</td>\n",
       "      <td>Kota Factory</td>\n",
       "      <td>NaN</td>\n",
       "      <td>Mayur More, Jitendra Kumar, Ranjan Raj, Alam K...</td>\n",
       "      <td>India</td>\n",
       "      <td>2021-09-24</td>\n",
       "      <td>2021</td>\n",
       "      <td>TV-MA</td>\n",
       "      <td>2 Seasons</td>\n",
       "      <td>International TV Shows, Romantic TV Shows, TV ...</td>\n",
       "      <td>In a city of coaching centers known to train I...</td>\n",
       "      <td>2021.0</td>\n",
       "      <td>9.0</td>\n",
       "    </tr>\n",
       "  </tbody>\n",
       "</table>\n",
       "</div>"
      ],
      "text/plain": [
       "      type            movie_title         director  \\\n",
       "0    Movie   Dick Johnson Is Dead  Kirsten Johnson   \n",
       "1  TV Show          Blood & Water              NaN   \n",
       "2  TV Show              Ganglands  Julien Leclercq   \n",
       "3  TV Show  Jailbirds New Orleans              NaN   \n",
       "4  TV Show           Kota Factory              NaN   \n",
       "\n",
       "                                                cast        country  \\\n",
       "0                                                NaN  United States   \n",
       "1  Ama Qamata, Khosi Ngema, Gail Mabalane, Thaban...   South Africa   \n",
       "2  Sami Bouajila, Tracy Gotoas, Samuel Jouy, Nabi...            NaN   \n",
       "3                                                NaN            NaN   \n",
       "4  Mayur More, Jitendra Kumar, Ranjan Raj, Alam K...          India   \n",
       "\n",
       "  date_added  release_year rating   duration  \\\n",
       "0 2021-09-25          2020  PG-13     90 min   \n",
       "1 2021-09-24          2021  TV-MA  2 Seasons   \n",
       "2 2021-09-24          2021  TV-MA   1 Season   \n",
       "3 2021-09-24          2021  TV-MA   1 Season   \n",
       "4 2021-09-24          2021  TV-MA  2 Seasons   \n",
       "\n",
       "                                              genres  \\\n",
       "0                                      Documentaries   \n",
       "1    International TV Shows, TV Dramas, TV Mysteries   \n",
       "2  Crime TV Shows, International TV Shows, TV Act...   \n",
       "3                             Docuseries, Reality TV   \n",
       "4  International TV Shows, Romantic TV Shows, TV ...   \n",
       "\n",
       "                                         description  year_added  year_month  \n",
       "0  As her father nears the end of his life, filmm...      2021.0         9.0  \n",
       "1  After crossing paths at a party, a Cape Town t...      2021.0         9.0  \n",
       "2  To protect his family from a powerful drug lor...      2021.0         9.0  \n",
       "3  Feuds, flirtations and toilet talk go down amo...      2021.0         9.0  \n",
       "4  In a city of coaching centers known to train I...      2021.0         9.0  "
      ]
     },
     "execution_count": 28,
     "metadata": {},
     "output_type": "execute_result"
    }
   ],
   "source": [
    "netflix_data.head()"
   ]
  },
  {
   "cell_type": "code",
   "execution_count": 14,
   "id": "255cfbda",
   "metadata": {},
   "outputs": [
    {
     "data": {
      "text/html": [
       "<div>\n",
       "<style scoped>\n",
       "    .dataframe tbody tr th:only-of-type {\n",
       "        vertical-align: middle;\n",
       "    }\n",
       "\n",
       "    .dataframe tbody tr th {\n",
       "        vertical-align: top;\n",
       "    }\n",
       "\n",
       "    .dataframe thead th {\n",
       "        text-align: right;\n",
       "    }\n",
       "</style>\n",
       "<table border=\"1\" class=\"dataframe\">\n",
       "  <thead>\n",
       "    <tr style=\"text-align: right;\">\n",
       "      <th></th>\n",
       "      <th>0</th>\n",
       "      <th>1</th>\n",
       "      <th>2</th>\n",
       "      <th>3</th>\n",
       "      <th>4</th>\n",
       "      <th>5</th>\n",
       "      <th>6</th>\n",
       "      <th>7</th>\n",
       "      <th>8</th>\n",
       "      <th>9</th>\n",
       "      <th>...</th>\n",
       "      <th>40</th>\n",
       "      <th>41</th>\n",
       "      <th>42</th>\n",
       "      <th>43</th>\n",
       "      <th>44</th>\n",
       "      <th>45</th>\n",
       "      <th>46</th>\n",
       "      <th>47</th>\n",
       "      <th>48</th>\n",
       "      <th>49</th>\n",
       "    </tr>\n",
       "  </thead>\n",
       "  <tbody>\n",
       "    <tr>\n",
       "      <th>0</th>\n",
       "      <td>NaN</td>\n",
       "      <td>NaN</td>\n",
       "      <td>NaN</td>\n",
       "      <td>NaN</td>\n",
       "      <td>NaN</td>\n",
       "      <td>NaN</td>\n",
       "      <td>NaN</td>\n",
       "      <td>NaN</td>\n",
       "      <td>NaN</td>\n",
       "      <td>NaN</td>\n",
       "      <td>...</td>\n",
       "      <td>NaN</td>\n",
       "      <td>NaN</td>\n",
       "      <td>NaN</td>\n",
       "      <td>NaN</td>\n",
       "      <td>NaN</td>\n",
       "      <td>NaN</td>\n",
       "      <td>NaN</td>\n",
       "      <td>NaN</td>\n",
       "      <td>NaN</td>\n",
       "      <td>NaN</td>\n",
       "    </tr>\n",
       "    <tr>\n",
       "      <th>1</th>\n",
       "      <td>Ama Qamata</td>\n",
       "      <td>Khosi Ngema</td>\n",
       "      <td>Gail Mabalane</td>\n",
       "      <td>Thabang Molaba</td>\n",
       "      <td>Dillon Windvogel</td>\n",
       "      <td>Natasha Thahane</td>\n",
       "      <td>Arno Greeff</td>\n",
       "      <td>Xolile Tshabalala</td>\n",
       "      <td>Getmore Sithole</td>\n",
       "      <td>Cindy Mahlangu</td>\n",
       "      <td>...</td>\n",
       "      <td>NaN</td>\n",
       "      <td>NaN</td>\n",
       "      <td>NaN</td>\n",
       "      <td>NaN</td>\n",
       "      <td>NaN</td>\n",
       "      <td>NaN</td>\n",
       "      <td>NaN</td>\n",
       "      <td>NaN</td>\n",
       "      <td>NaN</td>\n",
       "      <td>NaN</td>\n",
       "    </tr>\n",
       "    <tr>\n",
       "      <th>2</th>\n",
       "      <td>Sami Bouajila</td>\n",
       "      <td>Tracy Gotoas</td>\n",
       "      <td>Samuel Jouy</td>\n",
       "      <td>Nabiha Akkari</td>\n",
       "      <td>Sofia Lesaffre</td>\n",
       "      <td>Salim Kechiouche</td>\n",
       "      <td>Noureddine Farihi</td>\n",
       "      <td>Geert Van Rampelberg</td>\n",
       "      <td>Bakary Diombera</td>\n",
       "      <td>None</td>\n",
       "      <td>...</td>\n",
       "      <td>NaN</td>\n",
       "      <td>NaN</td>\n",
       "      <td>NaN</td>\n",
       "      <td>NaN</td>\n",
       "      <td>NaN</td>\n",
       "      <td>NaN</td>\n",
       "      <td>NaN</td>\n",
       "      <td>NaN</td>\n",
       "      <td>NaN</td>\n",
       "      <td>NaN</td>\n",
       "    </tr>\n",
       "    <tr>\n",
       "      <th>3</th>\n",
       "      <td>NaN</td>\n",
       "      <td>NaN</td>\n",
       "      <td>NaN</td>\n",
       "      <td>NaN</td>\n",
       "      <td>NaN</td>\n",
       "      <td>NaN</td>\n",
       "      <td>NaN</td>\n",
       "      <td>NaN</td>\n",
       "      <td>NaN</td>\n",
       "      <td>NaN</td>\n",
       "      <td>...</td>\n",
       "      <td>NaN</td>\n",
       "      <td>NaN</td>\n",
       "      <td>NaN</td>\n",
       "      <td>NaN</td>\n",
       "      <td>NaN</td>\n",
       "      <td>NaN</td>\n",
       "      <td>NaN</td>\n",
       "      <td>NaN</td>\n",
       "      <td>NaN</td>\n",
       "      <td>NaN</td>\n",
       "    </tr>\n",
       "    <tr>\n",
       "      <th>4</th>\n",
       "      <td>Mayur More</td>\n",
       "      <td>Jitendra Kumar</td>\n",
       "      <td>Ranjan Raj</td>\n",
       "      <td>Alam Khan</td>\n",
       "      <td>Ahsaas Channa</td>\n",
       "      <td>Revathi Pillai</td>\n",
       "      <td>Urvi Singh</td>\n",
       "      <td>Arun Kumar</td>\n",
       "      <td>None</td>\n",
       "      <td>None</td>\n",
       "      <td>...</td>\n",
       "      <td>NaN</td>\n",
       "      <td>NaN</td>\n",
       "      <td>NaN</td>\n",
       "      <td>NaN</td>\n",
       "      <td>NaN</td>\n",
       "      <td>NaN</td>\n",
       "      <td>NaN</td>\n",
       "      <td>NaN</td>\n",
       "      <td>NaN</td>\n",
       "      <td>NaN</td>\n",
       "    </tr>\n",
       "    <tr>\n",
       "      <th>...</th>\n",
       "      <td>...</td>\n",
       "      <td>...</td>\n",
       "      <td>...</td>\n",
       "      <td>...</td>\n",
       "      <td>...</td>\n",
       "      <td>...</td>\n",
       "      <td>...</td>\n",
       "      <td>...</td>\n",
       "      <td>...</td>\n",
       "      <td>...</td>\n",
       "      <td>...</td>\n",
       "      <td>...</td>\n",
       "      <td>...</td>\n",
       "      <td>...</td>\n",
       "      <td>...</td>\n",
       "      <td>...</td>\n",
       "      <td>...</td>\n",
       "      <td>...</td>\n",
       "      <td>...</td>\n",
       "      <td>...</td>\n",
       "      <td>...</td>\n",
       "    </tr>\n",
       "    <tr>\n",
       "      <th>8802</th>\n",
       "      <td>Mark Ruffalo</td>\n",
       "      <td>Jake Gyllenhaal</td>\n",
       "      <td>Robert Downey Jr.</td>\n",
       "      <td>Anthony Edwards</td>\n",
       "      <td>Brian Cox</td>\n",
       "      <td>Elias Koteas</td>\n",
       "      <td>Donal Logue</td>\n",
       "      <td>John Carroll Lynch</td>\n",
       "      <td>Dermot Mulroney</td>\n",
       "      <td>Chloë Sevigny</td>\n",
       "      <td>...</td>\n",
       "      <td>None</td>\n",
       "      <td>None</td>\n",
       "      <td>None</td>\n",
       "      <td>None</td>\n",
       "      <td>None</td>\n",
       "      <td>None</td>\n",
       "      <td>None</td>\n",
       "      <td>None</td>\n",
       "      <td>None</td>\n",
       "      <td>None</td>\n",
       "    </tr>\n",
       "    <tr>\n",
       "      <th>8803</th>\n",
       "      <td>NaN</td>\n",
       "      <td>NaN</td>\n",
       "      <td>NaN</td>\n",
       "      <td>NaN</td>\n",
       "      <td>NaN</td>\n",
       "      <td>NaN</td>\n",
       "      <td>NaN</td>\n",
       "      <td>NaN</td>\n",
       "      <td>NaN</td>\n",
       "      <td>NaN</td>\n",
       "      <td>...</td>\n",
       "      <td>None</td>\n",
       "      <td>None</td>\n",
       "      <td>None</td>\n",
       "      <td>None</td>\n",
       "      <td>None</td>\n",
       "      <td>None</td>\n",
       "      <td>None</td>\n",
       "      <td>None</td>\n",
       "      <td>None</td>\n",
       "      <td>None</td>\n",
       "    </tr>\n",
       "    <tr>\n",
       "      <th>8804</th>\n",
       "      <td>Jesse Eisenberg</td>\n",
       "      <td>Woody Harrelson</td>\n",
       "      <td>Emma Stone</td>\n",
       "      <td>Abigail Breslin</td>\n",
       "      <td>Amber Heard</td>\n",
       "      <td>Bill Murray</td>\n",
       "      <td>Derek Graf</td>\n",
       "      <td>None</td>\n",
       "      <td>None</td>\n",
       "      <td>None</td>\n",
       "      <td>...</td>\n",
       "      <td>None</td>\n",
       "      <td>None</td>\n",
       "      <td>None</td>\n",
       "      <td>None</td>\n",
       "      <td>None</td>\n",
       "      <td>None</td>\n",
       "      <td>None</td>\n",
       "      <td>None</td>\n",
       "      <td>None</td>\n",
       "      <td>None</td>\n",
       "    </tr>\n",
       "    <tr>\n",
       "      <th>8805</th>\n",
       "      <td>Tim Allen</td>\n",
       "      <td>Courteney Cox</td>\n",
       "      <td>Chevy Chase</td>\n",
       "      <td>Kate Mara</td>\n",
       "      <td>Ryan Newman</td>\n",
       "      <td>Michael Cassidy</td>\n",
       "      <td>Spencer Breslin</td>\n",
       "      <td>Rip Torn</td>\n",
       "      <td>Kevin Zegers</td>\n",
       "      <td>None</td>\n",
       "      <td>...</td>\n",
       "      <td>None</td>\n",
       "      <td>None</td>\n",
       "      <td>None</td>\n",
       "      <td>None</td>\n",
       "      <td>None</td>\n",
       "      <td>None</td>\n",
       "      <td>None</td>\n",
       "      <td>None</td>\n",
       "      <td>None</td>\n",
       "      <td>None</td>\n",
       "    </tr>\n",
       "    <tr>\n",
       "      <th>8806</th>\n",
       "      <td>Vicky Kaushal</td>\n",
       "      <td>Sarah-Jane Dias</td>\n",
       "      <td>Raaghav Chanana</td>\n",
       "      <td>Manish Chaudhary</td>\n",
       "      <td>Meghna Malik</td>\n",
       "      <td>Malkeet Rauni</td>\n",
       "      <td>Anita Shabdish</td>\n",
       "      <td>Chittaranjan Tripathy</td>\n",
       "      <td>None</td>\n",
       "      <td>None</td>\n",
       "      <td>...</td>\n",
       "      <td>None</td>\n",
       "      <td>None</td>\n",
       "      <td>None</td>\n",
       "      <td>None</td>\n",
       "      <td>None</td>\n",
       "      <td>None</td>\n",
       "      <td>None</td>\n",
       "      <td>None</td>\n",
       "      <td>None</td>\n",
       "      <td>None</td>\n",
       "    </tr>\n",
       "  </tbody>\n",
       "</table>\n",
       "<p>8807 rows × 50 columns</p>\n",
       "</div>"
      ],
      "text/plain": [
       "                   0                 1                   2   \\\n",
       "0                 NaN               NaN                 NaN   \n",
       "1          Ama Qamata       Khosi Ngema       Gail Mabalane   \n",
       "2       Sami Bouajila      Tracy Gotoas         Samuel Jouy   \n",
       "3                 NaN               NaN                 NaN   \n",
       "4          Mayur More    Jitendra Kumar          Ranjan Raj   \n",
       "...               ...               ...                 ...   \n",
       "8802     Mark Ruffalo   Jake Gyllenhaal   Robert Downey Jr.   \n",
       "8803              NaN               NaN                 NaN   \n",
       "8804  Jesse Eisenberg   Woody Harrelson          Emma Stone   \n",
       "8805        Tim Allen     Courteney Cox         Chevy Chase   \n",
       "8806    Vicky Kaushal   Sarah-Jane Dias     Raaghav Chanana   \n",
       "\n",
       "                     3                  4                  5   \\\n",
       "0                   NaN                NaN                NaN   \n",
       "1        Thabang Molaba   Dillon Windvogel    Natasha Thahane   \n",
       "2         Nabiha Akkari     Sofia Lesaffre   Salim Kechiouche   \n",
       "3                   NaN                NaN                NaN   \n",
       "4             Alam Khan      Ahsaas Channa     Revathi Pillai   \n",
       "...                 ...                ...                ...   \n",
       "8802    Anthony Edwards          Brian Cox       Elias Koteas   \n",
       "8803                NaN                NaN                NaN   \n",
       "8804    Abigail Breslin        Amber Heard        Bill Murray   \n",
       "8805          Kate Mara        Ryan Newman    Michael Cassidy   \n",
       "8806   Manish Chaudhary       Meghna Malik      Malkeet Rauni   \n",
       "\n",
       "                      6                       7                 8   \\\n",
       "0                    NaN                     NaN               NaN   \n",
       "1            Arno Greeff       Xolile Tshabalala   Getmore Sithole   \n",
       "2      Noureddine Farihi    Geert Van Rampelberg   Bakary Diombera   \n",
       "3                    NaN                     NaN               NaN   \n",
       "4             Urvi Singh              Arun Kumar              None   \n",
       "...                  ...                     ...               ...   \n",
       "8802         Donal Logue      John Carroll Lynch   Dermot Mulroney   \n",
       "8803                 NaN                     NaN               NaN   \n",
       "8804          Derek Graf                    None              None   \n",
       "8805     Spencer Breslin                Rip Torn      Kevin Zegers   \n",
       "8806      Anita Shabdish   Chittaranjan Tripathy              None   \n",
       "\n",
       "                   9   ...    40    41    42    43    44    45    46    47  \\\n",
       "0                 NaN  ...   NaN   NaN   NaN   NaN   NaN   NaN   NaN   NaN   \n",
       "1      Cindy Mahlangu  ...   NaN   NaN   NaN   NaN   NaN   NaN   NaN   NaN   \n",
       "2                None  ...   NaN   NaN   NaN   NaN   NaN   NaN   NaN   NaN   \n",
       "3                 NaN  ...   NaN   NaN   NaN   NaN   NaN   NaN   NaN   NaN   \n",
       "4                None  ...   NaN   NaN   NaN   NaN   NaN   NaN   NaN   NaN   \n",
       "...               ...  ...   ...   ...   ...   ...   ...   ...   ...   ...   \n",
       "8802    Chloë Sevigny  ...  None  None  None  None  None  None  None  None   \n",
       "8803              NaN  ...  None  None  None  None  None  None  None  None   \n",
       "8804             None  ...  None  None  None  None  None  None  None  None   \n",
       "8805             None  ...  None  None  None  None  None  None  None  None   \n",
       "8806             None  ...  None  None  None  None  None  None  None  None   \n",
       "\n",
       "        48    49  \n",
       "0      NaN   NaN  \n",
       "1      NaN   NaN  \n",
       "2      NaN   NaN  \n",
       "3      NaN   NaN  \n",
       "4      NaN   NaN  \n",
       "...    ...   ...  \n",
       "8802  None  None  \n",
       "8803  None  None  \n",
       "8804  None  None  \n",
       "8805  None  None  \n",
       "8806  None  None  \n",
       "\n",
       "[8807 rows x 50 columns]"
      ]
     },
     "execution_count": 14,
     "metadata": {},
     "output_type": "execute_result"
    }
   ],
   "source": [
    "netflix_data['cast'].str.split(',', expand=True)"
   ]
  },
  {
   "cell_type": "code",
   "execution_count": 17,
   "id": "a233273a",
   "metadata": {},
   "outputs": [],
   "source": [
    "netflix_data_v1 = netflix_data['listed_in'].str.split(',', expand=True)"
   ]
  },
  {
   "cell_type": "code",
   "execution_count": 19,
   "id": "b73be8be",
   "metadata": {},
   "outputs": [
    {
     "data": {
      "text/plain": [
       "Dramas                          1600\n",
       "Comedies                        1210\n",
       "Action & Adventure               859\n",
       "Documentaries                    829\n",
       "International TV Shows           774\n",
       "Children & Family Movies         605\n",
       "Crime TV Shows                   399\n",
       "Kids' TV                         388\n",
       "Stand-Up Comedy                  334\n",
       "Horror Movies                    275\n",
       "British TV Shows                 253\n",
       "Docuseries                       221\n",
       "Anime Series                     176\n",
       "International Movies             128\n",
       "TV Comedies                      120\n",
       "Reality TV                       120\n",
       "Classic Movies                    80\n",
       "TV Dramas                         67\n",
       "Thrillers                         65\n",
       "Movies                            57\n",
       "TV Action & Adventure             40\n",
       "Stand-Up Comedy & Talk Shows      34\n",
       "Romantic TV Shows                 32\n",
       "Classic & Cult TV                 22\n",
       "Anime Features                    21\n",
       "Independent Movies                20\n",
       "Music & Musicals                  18\n",
       "TV Shows                          16\n",
       "Sci-Fi & Fantasy                  13\n",
       "Cult Movies                       12\n",
       "TV Horror                         11\n",
       "Romantic Movies                    3\n",
       "Spanish-Language TV Shows          2\n",
       "LGBTQ Movies                       1\n",
       "TV Sci-Fi & Fantasy                1\n",
       "Sports Movies                      1\n",
       "Name: 0, dtype: int64"
      ]
     },
     "execution_count": 19,
     "metadata": {},
     "output_type": "execute_result"
    }
   ],
   "source": [
    "netflix_data_v1.iloc[:,0].value_counts()"
   ]
  },
  {
   "cell_type": "code",
   "execution_count": 23,
   "id": "8ebc2381",
   "metadata": {},
   "outputs": [],
   "source": [
    "def to_1D(series):\n",
    "    return pd.Series([x for _list in series for x in _list])"
   ]
  },
  {
   "cell_type": "code",
   "execution_count": 24,
   "id": "911d479e",
   "metadata": {},
   "outputs": [],
   "source": [
    "unique_items = to_1D(netflix_data[\"listed_in\"]).value_counts()"
   ]
  },
  {
   "cell_type": "code",
   "execution_count": 25,
   "id": "d5591b7d",
   "metadata": {},
   "outputs": [
    {
     "data": {
      "text/plain": [
       "     30414\n",
       "e    25225\n",
       "i    21515\n",
       "n    20760\n",
       "a    19931\n",
       "o    19865\n",
       "s    19615\n",
       "t    14879\n",
       "r    14384\n",
       ",    10516\n",
       "m     9057\n",
       "l     7647\n",
       "v     6714\n",
       "d     6684\n",
       "M     6535\n",
       "T     6367\n",
       "V     5506\n",
       "I     4859\n",
       "c     4682\n",
       "h     4677\n",
       "D     4454\n",
       "S     4362\n",
       "C     4008\n",
       "u     3542\n",
       "w     2910\n",
       "&     2611\n",
       "A     2301\n",
       "y     1785\n",
       "p     1613\n",
       "F     1431\n",
       "R     1241\n",
       "-      900\n",
       "K      602\n",
       "'      451\n",
       "H      432\n",
       "U      399\n",
       "B      355\n",
       "g      348\n",
       "L      276\n",
       "G      102\n",
       "Q      102\n",
       "N       92\n",
       "k       56\n",
       "dtype: int64"
      ]
     },
     "execution_count": 25,
     "metadata": {},
     "output_type": "execute_result"
    }
   ],
   "source": [
    "unique_items"
   ]
  },
  {
   "cell_type": "code",
   "execution_count": 20,
   "id": "1192dafe",
   "metadata": {},
   "outputs": [],
   "source": [
    "def boolean_df(item_lists, unique_items):\n",
    "# Create empty dict\n",
    "    bool_dict = {}\n",
    "    \n",
    "    # Loop through all the tags\n",
    "    for i, item in enumerate(unique_items):\n",
    "        \n",
    "        # Apply boolean mask\n",
    "        bool_dict[item] = item_lists.apply(lambda x: item in x)\n",
    "            \n",
    "    # Return the results as a dataframe\n",
    "    return pd.DataFrame(bool_dict)"
   ]
  },
  {
   "cell_type": "code",
   "execution_count": 22,
   "id": "bc086fd7",
   "metadata": {},
   "outputs": [
    {
     "ename": "NameError",
     "evalue": "name 'unique_items' is not defined",
     "output_type": "error",
     "traceback": [
      "\u001b[1;31m---------------------------------------------------------------------------\u001b[0m",
      "\u001b[1;31mNameError\u001b[0m                                 Traceback (most recent call last)",
      "\u001b[1;32m~\\AppData\\Local\\Temp/ipykernel_7360/1998670480.py\u001b[0m in \u001b[0;36m<module>\u001b[1;34m\u001b[0m\n\u001b[1;32m----> 1\u001b[1;33m \u001b[0mnetflix_data_v2\u001b[0m \u001b[1;33m=\u001b[0m \u001b[0mboolean_df\u001b[0m\u001b[1;33m(\u001b[0m\u001b[0mnetflix_data\u001b[0m\u001b[1;33m[\u001b[0m\u001b[1;34m\"listed_in\"\u001b[0m\u001b[1;33m]\u001b[0m\u001b[1;33m,\u001b[0m \u001b[0munique_items\u001b[0m\u001b[1;33m.\u001b[0m\u001b[0mkeys\u001b[0m\u001b[1;33m(\u001b[0m\u001b[1;33m)\u001b[0m\u001b[1;33m)\u001b[0m\u001b[1;33m\u001b[0m\u001b[1;33m\u001b[0m\u001b[0m\n\u001b[0m",
      "\u001b[1;31mNameError\u001b[0m: name 'unique_items' is not defined"
     ]
    }
   ],
   "source": [
    "netflix_data_v2 = boolean_df(netflix_data[\"listed_in\"], unique_items.keys())"
   ]
  },
  {
   "cell_type": "code",
   "execution_count": null,
   "id": "0a320702",
   "metadata": {},
   "outputs": [],
   "source": []
  },
  {
   "cell_type": "code",
   "execution_count": null,
   "id": "34e154f1",
   "metadata": {},
   "outputs": [],
   "source": []
  },
  {
   "cell_type": "code",
   "execution_count": null,
   "id": "65b66342",
   "metadata": {},
   "outputs": [],
   "source": []
  },
  {
   "cell_type": "code",
   "execution_count": 11,
   "id": "c3539664",
   "metadata": {},
   "outputs": [],
   "source": [
    "netflix_data_v1 = netflix_data[\"listed_in\"].apply(pd.Series)"
   ]
  },
  {
   "cell_type": "code",
   "execution_count": 12,
   "id": "d38fa97d",
   "metadata": {},
   "outputs": [
    {
     "data": {
      "text/html": [
       "<div>\n",
       "<style scoped>\n",
       "    .dataframe tbody tr th:only-of-type {\n",
       "        vertical-align: middle;\n",
       "    }\n",
       "\n",
       "    .dataframe tbody tr th {\n",
       "        vertical-align: top;\n",
       "    }\n",
       "\n",
       "    .dataframe thead th {\n",
       "        text-align: right;\n",
       "    }\n",
       "</style>\n",
       "<table border=\"1\" class=\"dataframe\">\n",
       "  <thead>\n",
       "    <tr style=\"text-align: right;\">\n",
       "      <th></th>\n",
       "      <th>0</th>\n",
       "    </tr>\n",
       "  </thead>\n",
       "  <tbody>\n",
       "    <tr>\n",
       "      <th>0</th>\n",
       "      <td>Documentaries</td>\n",
       "    </tr>\n",
       "    <tr>\n",
       "      <th>1</th>\n",
       "      <td>International TV Shows, TV Dramas, TV Mysteries</td>\n",
       "    </tr>\n",
       "    <tr>\n",
       "      <th>2</th>\n",
       "      <td>Crime TV Shows, International TV Shows, TV Act...</td>\n",
       "    </tr>\n",
       "    <tr>\n",
       "      <th>3</th>\n",
       "      <td>Docuseries, Reality TV</td>\n",
       "    </tr>\n",
       "    <tr>\n",
       "      <th>4</th>\n",
       "      <td>International TV Shows, Romantic TV Shows, TV ...</td>\n",
       "    </tr>\n",
       "  </tbody>\n",
       "</table>\n",
       "</div>"
      ],
      "text/plain": [
       "                                                   0\n",
       "0                                      Documentaries\n",
       "1    International TV Shows, TV Dramas, TV Mysteries\n",
       "2  Crime TV Shows, International TV Shows, TV Act...\n",
       "3                             Docuseries, Reality TV\n",
       "4  International TV Shows, Romantic TV Shows, TV ..."
      ]
     },
     "execution_count": 12,
     "metadata": {},
     "output_type": "execute_result"
    }
   ],
   "source": [
    "netflix_data_v1.head()"
   ]
  },
  {
   "cell_type": "code",
   "execution_count": null,
   "id": "b1d54f99",
   "metadata": {},
   "outputs": [],
   "source": [
    "def clean_alt_list(list_):\n",
    "    list_ = list_.replace(', ', '\",\"')\n",
    "    list_ = list_.replace('[', '[\"')\n",
    "    list_ = list_.replace(']', '\"]')\n",
    "    return list_"
   ]
  },
  {
   "cell_type": "code",
   "execution_count": 30,
   "id": "a70326ed",
   "metadata": {},
   "outputs": [
    {
     "ename": "TypeError",
     "evalue": "'function' object is not iterable",
     "output_type": "error",
     "traceback": [
      "\u001b[1;31m---------------------------------------------------------------------------\u001b[0m",
      "\u001b[1;31mTypeError\u001b[0m                                 Traceback (most recent call last)",
      "\u001b[1;32m~\\AppData\\Local\\Temp/ipykernel_7360/3555727503.py\u001b[0m in \u001b[0;36m<module>\u001b[1;34m\u001b[0m\n\u001b[0;32m      1\u001b[0m \u001b[0ms\u001b[0m \u001b[1;33m=\u001b[0m \u001b[1;34m\"Docuseries, Reality TV\"\u001b[0m\u001b[1;33m\u001b[0m\u001b[1;33m\u001b[0m\u001b[0m\n\u001b[1;32m----> 2\u001b[1;33m \u001b[0ml1\u001b[0m \u001b[1;33m=\u001b[0m \u001b[0mlist\u001b[0m\u001b[1;33m(\u001b[0m\u001b[1;32mlambda\u001b[0m \u001b[0ms\u001b[0m \u001b[1;33m:\u001b[0m \u001b[0ms\u001b[0m\u001b[1;33m.\u001b[0m\u001b[0msplit\u001b[0m\u001b[1;33m(\u001b[0m\u001b[1;34m\",\"\u001b[0m\u001b[1;33m)\u001b[0m\u001b[1;33m)\u001b[0m\u001b[1;33m\u001b[0m\u001b[1;33m\u001b[0m\u001b[0m\n\u001b[0m",
      "\u001b[1;31mTypeError\u001b[0m: 'function' object is not iterable"
     ]
    }
   ],
   "source": [
    "s = \"Docuseries, Reality TV\"\n",
    "l1 = list(lambda s : s.split(\",\"))"
   ]
  },
  {
   "cell_type": "code",
   "execution_count": 29,
   "id": "b27a1389",
   "metadata": {},
   "outputs": [
    {
     "data": {
      "text/plain": [
       "<function __main__.<lambda>(s)>"
      ]
     },
     "execution_count": 29,
     "metadata": {},
     "output_type": "execute_result"
    }
   ],
   "source": [
    "l1"
   ]
  },
  {
   "cell_type": "code",
   "execution_count": null,
   "id": "1cf5069b",
   "metadata": {},
   "outputs": [],
   "source": []
  }
 ],
 "metadata": {
  "kernelspec": {
   "display_name": "Python 3 (ipykernel)",
   "language": "python",
   "name": "python3"
  },
  "language_info": {
   "codemirror_mode": {
    "name": "ipython",
    "version": 3
   },
   "file_extension": ".py",
   "mimetype": "text/x-python",
   "name": "python",
   "nbconvert_exporter": "python",
   "pygments_lexer": "ipython3",
   "version": "3.7.3"
  }
 },
 "nbformat": 4,
 "nbformat_minor": 5
}
